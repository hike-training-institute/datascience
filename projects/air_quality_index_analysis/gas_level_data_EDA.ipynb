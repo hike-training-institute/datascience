{
 "cells": [
  {
   "cell_type": "markdown",
   "metadata": {},
   "source": [
    "- PM10 is particulate matter 10 micrometers or less in diameter, \n",
    "- PM2.5 is particulate matter 2.5 micrometers or less in diameter. \n",
    "- PM2.5 is generally described as fine particles."
   ]
  },
  {
   "cell_type": "code",
   "execution_count": 1,
   "metadata": {},
   "outputs": [],
   "source": [
    "%matplotlib inline\n",
    "import pandas as pd \n",
    "import numpy as np \n",
    "from matplotlib import pyplot as plt "
   ]
  },
  {
   "cell_type": "markdown",
   "metadata": {},
   "source": [
    "# Data Sources"
   ]
  },
  {
   "cell_type": "code",
   "execution_count": 2,
   "metadata": {},
   "outputs": [],
   "source": [
    "aqi_level  = 'Book3.xlsx'\n",
    "gas_level = 'Book1..xlsx'"
   ]
  },
  {
   "cell_type": "markdown",
   "metadata": {},
   "source": [
    "# Pandas Dataframes\n",
    "\n",
    "- AQI data is available for Chennai Location Only  hence ignoring other location for now"
   ]
  },
  {
   "cell_type": "code",
   "execution_count": 3,
   "metadata": {},
   "outputs": [],
   "source": [
    "aqi_level_df= pd.read_excel(aqi_level, sheet_name='chennai')\n",
    "gas_level_df = pd.read_excel(gas_level)"
   ]
  },
  {
   "cell_type": "markdown",
   "metadata": {},
   "source": [
    "# Summary of Data"
   ]
  },
  {
   "cell_type": "code",
   "execution_count": 41,
   "metadata": {},
   "outputs": [
    {
     "name": "stdout",
     "output_type": "stream",
     "text": [
      "<class 'pandas.core.frame.DataFrame'>\n",
      "RangeIndex: 366 entries, 0 to 365\n",
      "Data columns (total 6 columns):\n",
      "stations                   366 non-null object\n",
      "Date & Period of Survey    365 non-null object\n",
      "PM10                       366 non-null int64\n",
      "PM2.5                      312 non-null float64\n",
      "SO2                        366 non-null int64\n",
      "NO2                        366 non-null int64\n",
      "dtypes: float64(1), int64(3), object(2)\n",
      "memory usage: 17.3+ KB\n"
     ]
    }
   ],
   "source": [
    "gas_level_df.info()"
   ]
  },
  {
   "cell_type": "markdown",
   "metadata": {},
   "source": [
    "# Description \n",
    "\n",
    "### Observations\n",
    "    - all gas ranges\n",
    "    - mean of all gas level\n",
    "    - min and max values for each gas\n",
    "    - distribution of gases in each quantile"
   ]
  },
  {
   "cell_type": "code",
   "execution_count": 5,
   "metadata": {},
   "outputs": [
    {
     "data": {
      "text/html": [
       "<div>\n",
       "<style scoped>\n",
       "    .dataframe tbody tr th:only-of-type {\n",
       "        vertical-align: middle;\n",
       "    }\n",
       "\n",
       "    .dataframe tbody tr th {\n",
       "        vertical-align: top;\n",
       "    }\n",
       "\n",
       "    .dataframe thead th {\n",
       "        text-align: right;\n",
       "    }\n",
       "</style>\n",
       "<table border=\"1\" class=\"dataframe\">\n",
       "  <thead>\n",
       "    <tr style=\"text-align: right;\">\n",
       "      <th></th>\n",
       "      <th>PM10</th>\n",
       "      <th>PM2.5</th>\n",
       "      <th>SO2</th>\n",
       "      <th>NO2</th>\n",
       "    </tr>\n",
       "  </thead>\n",
       "  <tbody>\n",
       "    <tr>\n",
       "      <td>count</td>\n",
       "      <td>366.000000</td>\n",
       "      <td>312.000000</td>\n",
       "      <td>366.000000</td>\n",
       "      <td>366.000000</td>\n",
       "    </tr>\n",
       "    <tr>\n",
       "      <td>mean</td>\n",
       "      <td>114.035519</td>\n",
       "      <td>41.871795</td>\n",
       "      <td>10.568306</td>\n",
       "      <td>20.295082</td>\n",
       "    </tr>\n",
       "    <tr>\n",
       "      <td>std</td>\n",
       "      <td>34.729978</td>\n",
       "      <td>10.247558</td>\n",
       "      <td>1.983350</td>\n",
       "      <td>2.675168</td>\n",
       "    </tr>\n",
       "    <tr>\n",
       "      <td>min</td>\n",
       "      <td>11.000000</td>\n",
       "      <td>12.000000</td>\n",
       "      <td>7.000000</td>\n",
       "      <td>1.000000</td>\n",
       "    </tr>\n",
       "    <tr>\n",
       "      <td>25%</td>\n",
       "      <td>94.000000</td>\n",
       "      <td>35.000000</td>\n",
       "      <td>10.000000</td>\n",
       "      <td>19.000000</td>\n",
       "    </tr>\n",
       "    <tr>\n",
       "      <td>50%</td>\n",
       "      <td>115.500000</td>\n",
       "      <td>44.500000</td>\n",
       "      <td>11.000000</td>\n",
       "      <td>21.000000</td>\n",
       "    </tr>\n",
       "    <tr>\n",
       "      <td>75%</td>\n",
       "      <td>135.000000</td>\n",
       "      <td>50.000000</td>\n",
       "      <td>12.000000</td>\n",
       "      <td>22.000000</td>\n",
       "    </tr>\n",
       "    <tr>\n",
       "      <td>max</td>\n",
       "      <td>231.000000</td>\n",
       "      <td>59.000000</td>\n",
       "      <td>30.000000</td>\n",
       "      <td>29.000000</td>\n",
       "    </tr>\n",
       "  </tbody>\n",
       "</table>\n",
       "</div>"
      ],
      "text/plain": [
       "             PM10       PM2.5         SO2         NO2\n",
       "count  366.000000  312.000000  366.000000  366.000000\n",
       "mean   114.035519   41.871795   10.568306   20.295082\n",
       "std     34.729978   10.247558    1.983350    2.675168\n",
       "min     11.000000   12.000000    7.000000    1.000000\n",
       "25%     94.000000   35.000000   10.000000   19.000000\n",
       "50%    115.500000   44.500000   11.000000   21.000000\n",
       "75%    135.000000   50.000000   12.000000   22.000000\n",
       "max    231.000000   59.000000   30.000000   29.000000"
      ]
     },
     "execution_count": 5,
     "metadata": {},
     "output_type": "execute_result"
    }
   ],
   "source": [
    "gas_level_df.describe()"
   ]
  },
  {
   "cell_type": "markdown",
   "metadata": {},
   "source": [
    "# First Look "
   ]
  },
  {
   "cell_type": "code",
   "execution_count": 12,
   "metadata": {},
   "outputs": [
    {
     "data": {
      "text/html": [
       "<div>\n",
       "<style scoped>\n",
       "    .dataframe tbody tr th:only-of-type {\n",
       "        vertical-align: middle;\n",
       "    }\n",
       "\n",
       "    .dataframe tbody tr th {\n",
       "        vertical-align: top;\n",
       "    }\n",
       "\n",
       "    .dataframe thead th {\n",
       "        text-align: right;\n",
       "    }\n",
       "</style>\n",
       "<table border=\"1\" class=\"dataframe\">\n",
       "  <thead>\n",
       "    <tr style=\"text-align: right;\">\n",
       "      <th></th>\n",
       "      <th>CITY</th>\n",
       "      <th>Type</th>\n",
       "      <th>STATION</th>\n",
       "      <th>Date of Sampling</th>\n",
       "      <th>AQI</th>\n",
       "      <th>Remarks</th>\n",
       "    </tr>\n",
       "  </thead>\n",
       "  <tbody>\n",
       "    <tr>\n",
       "      <td>0</td>\n",
       "      <td>CHENNAI</td>\n",
       "      <td>Residential</td>\n",
       "      <td>Anna Nagar - 765</td>\n",
       "      <td>05.06.18</td>\n",
       "      <td>68</td>\n",
       "      <td>Satisfactory</td>\n",
       "    </tr>\n",
       "    <tr>\n",
       "      <td>1</td>\n",
       "      <td>CHENNAI</td>\n",
       "      <td>Residential</td>\n",
       "      <td>Anna Nagar - 765</td>\n",
       "      <td>07.06.18</td>\n",
       "      <td>63</td>\n",
       "      <td>Satisfactory</td>\n",
       "    </tr>\n",
       "    <tr>\n",
       "      <td>2</td>\n",
       "      <td>CHENNAI</td>\n",
       "      <td>Residential</td>\n",
       "      <td>Anna Nagar - 765</td>\n",
       "      <td>12.06.18</td>\n",
       "      <td>70</td>\n",
       "      <td>Satisfactory</td>\n",
       "    </tr>\n",
       "    <tr>\n",
       "      <td>3</td>\n",
       "      <td>CHENNAI</td>\n",
       "      <td>Residential</td>\n",
       "      <td>Anna Nagar - 765</td>\n",
       "      <td>14.06.18</td>\n",
       "      <td>63</td>\n",
       "      <td>Satisfactory</td>\n",
       "    </tr>\n",
       "    <tr>\n",
       "      <td>4</td>\n",
       "      <td>CHENNAI</td>\n",
       "      <td>Residential</td>\n",
       "      <td>Anna Nagar - 765</td>\n",
       "      <td>19.06.18</td>\n",
       "      <td>63</td>\n",
       "      <td>Satisfactory</td>\n",
       "    </tr>\n",
       "  </tbody>\n",
       "</table>\n",
       "</div>"
      ],
      "text/plain": [
       "      CITY         Type           STATION Date of Sampling  AQI       Remarks\n",
       "0  CHENNAI  Residential  Anna Nagar - 765         05.06.18   68  Satisfactory\n",
       "1  CHENNAI  Residential  Anna Nagar - 765         07.06.18   63  Satisfactory\n",
       "2  CHENNAI  Residential  Anna Nagar - 765         12.06.18   70  Satisfactory\n",
       "3  CHENNAI  Residential  Anna Nagar - 765         14.06.18   63  Satisfactory\n",
       "4  CHENNAI  Residential  Anna Nagar - 765         19.06.18   63  Satisfactory"
      ]
     },
     "execution_count": 12,
     "metadata": {},
     "output_type": "execute_result"
    }
   ],
   "source": [
    "aqi_level_df.head()"
   ]
  },
  {
   "cell_type": "code",
   "execution_count": 11,
   "metadata": {},
   "outputs": [
    {
     "data": {
      "text/html": [
       "<div>\n",
       "<style scoped>\n",
       "    .dataframe tbody tr th:only-of-type {\n",
       "        vertical-align: middle;\n",
       "    }\n",
       "\n",
       "    .dataframe tbody tr th {\n",
       "        vertical-align: top;\n",
       "    }\n",
       "\n",
       "    .dataframe thead th {\n",
       "        text-align: right;\n",
       "    }\n",
       "</style>\n",
       "<table border=\"1\" class=\"dataframe\">\n",
       "  <thead>\n",
       "    <tr style=\"text-align: right;\">\n",
       "      <th></th>\n",
       "      <th>stations</th>\n",
       "      <th>Date &amp; Period of Survey</th>\n",
       "      <th>PM10</th>\n",
       "      <th>PM2.5</th>\n",
       "      <th>SO2</th>\n",
       "      <th>NO2</th>\n",
       "    </tr>\n",
       "  </thead>\n",
       "  <tbody>\n",
       "    <tr>\n",
       "      <td>0</td>\n",
       "      <td>Anna Nagar</td>\n",
       "      <td>2019-02-01 00:00:00</td>\n",
       "      <td>106</td>\n",
       "      <td>40.0</td>\n",
       "      <td>11</td>\n",
       "      <td>18</td>\n",
       "    </tr>\n",
       "    <tr>\n",
       "      <td>1</td>\n",
       "      <td>Anna Nagar</td>\n",
       "      <td>2019-05-07 00:00:00</td>\n",
       "      <td>119</td>\n",
       "      <td>31.0</td>\n",
       "      <td>14</td>\n",
       "      <td>26</td>\n",
       "    </tr>\n",
       "    <tr>\n",
       "      <td>2</td>\n",
       "      <td>Nungambakkam</td>\n",
       "      <td>2019-04-07 00:00:00</td>\n",
       "      <td>126</td>\n",
       "      <td>35.0</td>\n",
       "      <td>13</td>\n",
       "      <td>29</td>\n",
       "    </tr>\n",
       "    <tr>\n",
       "      <td>3</td>\n",
       "      <td>Anna Nagar</td>\n",
       "      <td>2019-07-01 00:00:00</td>\n",
       "      <td>94</td>\n",
       "      <td>31.0</td>\n",
       "      <td>13</td>\n",
       "      <td>20</td>\n",
       "    </tr>\n",
       "    <tr>\n",
       "      <td>4</td>\n",
       "      <td>Nungambakkam</td>\n",
       "      <td>2019-08-01 00:00:00</td>\n",
       "      <td>72</td>\n",
       "      <td>39.0</td>\n",
       "      <td>14</td>\n",
       "      <td>22</td>\n",
       "    </tr>\n",
       "  </tbody>\n",
       "</table>\n",
       "</div>"
      ],
      "text/plain": [
       "       stations Date & Period of Survey  PM10  PM2.5  SO2  NO2\n",
       "0    Anna Nagar     2019-02-01 00:00:00   106   40.0   11   18\n",
       "1    Anna Nagar     2019-05-07 00:00:00   119   31.0   14   26\n",
       "2  Nungambakkam     2019-04-07 00:00:00   126   35.0   13   29\n",
       "3    Anna Nagar     2019-07-01 00:00:00    94   31.0   13   20\n",
       "4  Nungambakkam     2019-08-01 00:00:00    72   39.0   14   22"
      ]
     },
     "execution_count": 11,
     "metadata": {},
     "output_type": "execute_result"
    }
   ],
   "source": [
    "gas_level_df.head() "
   ]
  },
  {
   "cell_type": "markdown",
   "metadata": {},
   "source": [
    "# Data Look Based on Stations"
   ]
  },
  {
   "cell_type": "code",
   "execution_count": 13,
   "metadata": {},
   "outputs": [
    {
     "data": {
      "text/html": [
       "<div>\n",
       "<style scoped>\n",
       "    .dataframe tbody tr th:only-of-type {\n",
       "        vertical-align: middle;\n",
       "    }\n",
       "\n",
       "    .dataframe tbody tr th {\n",
       "        vertical-align: top;\n",
       "    }\n",
       "\n",
       "    .dataframe thead th {\n",
       "        text-align: right;\n",
       "    }\n",
       "</style>\n",
       "<table border=\"1\" class=\"dataframe\">\n",
       "  <thead>\n",
       "    <tr style=\"text-align: right;\">\n",
       "      <th></th>\n",
       "      <th>Date &amp; Period of Survey</th>\n",
       "      <th>PM10</th>\n",
       "      <th>PM2.5</th>\n",
       "      <th>SO2</th>\n",
       "      <th>NO2</th>\n",
       "    </tr>\n",
       "    <tr>\n",
       "      <th>stations</th>\n",
       "      <th></th>\n",
       "      <th></th>\n",
       "      <th></th>\n",
       "      <th></th>\n",
       "      <th></th>\n",
       "    </tr>\n",
       "  </thead>\n",
       "  <tbody>\n",
       "    <tr>\n",
       "      <td>Anna Nagar</td>\n",
       "      <td>23</td>\n",
       "      <td>23</td>\n",
       "      <td>22</td>\n",
       "      <td>23</td>\n",
       "      <td>23</td>\n",
       "    </tr>\n",
       "    <tr>\n",
       "      <td>Kilpauk</td>\n",
       "      <td>60</td>\n",
       "      <td>60</td>\n",
       "      <td>52</td>\n",
       "      <td>60</td>\n",
       "      <td>60</td>\n",
       "    </tr>\n",
       "    <tr>\n",
       "      <td>Nungambakkam</td>\n",
       "      <td>82</td>\n",
       "      <td>82</td>\n",
       "      <td>69</td>\n",
       "      <td>82</td>\n",
       "      <td>82</td>\n",
       "    </tr>\n",
       "    <tr>\n",
       "      <td>Nungampakkam</td>\n",
       "      <td>2</td>\n",
       "      <td>2</td>\n",
       "      <td>2</td>\n",
       "      <td>2</td>\n",
       "      <td>2</td>\n",
       "    </tr>\n",
       "    <tr>\n",
       "      <td>adyar</td>\n",
       "      <td>68</td>\n",
       "      <td>68</td>\n",
       "      <td>57</td>\n",
       "      <td>68</td>\n",
       "      <td>68</td>\n",
       "    </tr>\n",
       "    <tr>\n",
       "      <td>anna nagar</td>\n",
       "      <td>53</td>\n",
       "      <td>54</td>\n",
       "      <td>45</td>\n",
       "      <td>54</td>\n",
       "      <td>54</td>\n",
       "    </tr>\n",
       "    <tr>\n",
       "      <td>naungambakkam</td>\n",
       "      <td>1</td>\n",
       "      <td>1</td>\n",
       "      <td>1</td>\n",
       "      <td>1</td>\n",
       "      <td>1</td>\n",
       "    </tr>\n",
       "    <tr>\n",
       "      <td>t.nagar</td>\n",
       "      <td>76</td>\n",
       "      <td>76</td>\n",
       "      <td>64</td>\n",
       "      <td>76</td>\n",
       "      <td>76</td>\n",
       "    </tr>\n",
       "  </tbody>\n",
       "</table>\n",
       "</div>"
      ],
      "text/plain": [
       "               Date & Period of Survey  PM10  PM2.5  SO2  NO2\n",
       "stations                                                     \n",
       "Anna Nagar                          23    23     22   23   23\n",
       "Kilpauk                             60    60     52   60   60\n",
       "Nungambakkam                        82    82     69   82   82\n",
       "Nungampakkam                         2     2      2    2    2\n",
       "adyar                               68    68     57   68   68\n",
       "anna nagar                          53    54     45   54   54\n",
       "naungambakkam                        1     1      1    1    1\n",
       "t.nagar                             76    76     64   76   76"
      ]
     },
     "execution_count": 13,
     "metadata": {},
     "output_type": "execute_result"
    }
   ],
   "source": [
    "gas_level_df.groupby('stations').count()"
   ]
  },
  {
   "cell_type": "markdown",
   "metadata": {},
   "source": [
    "### Nungambakkam --> is mispelled in 3 rows , handling them"
   ]
  },
  {
   "cell_type": "code",
   "execution_count": 20,
   "metadata": {},
   "outputs": [],
   "source": [
    "gas_level_df['stations'] = gas_level_df['stations'].str.replace('Nungampakkam', 'Nungambakkam')\n",
    "gas_level_df['stations'] = gas_level_df['stations'].str.replace('naungambakkam', 'Nungambakkam')"
   ]
  },
  {
   "cell_type": "code",
   "execution_count": 24,
   "metadata": {},
   "outputs": [],
   "source": [
    "gas_level_df['stations'] = gas_level_df['stations'].str.replace('anna nagar', 'Nungambakkam')\n",
    "gas_level_df['stations'] = gas_level_df['stations'].str.replace('t.nagar', 't_nagar')"
   ]
  },
  {
   "cell_type": "code",
   "execution_count": 26,
   "metadata": {},
   "outputs": [
    {
     "data": {
      "text/html": [
       "<div>\n",
       "<style scoped>\n",
       "    .dataframe tbody tr th:only-of-type {\n",
       "        vertical-align: middle;\n",
       "    }\n",
       "\n",
       "    .dataframe tbody tr th {\n",
       "        vertical-align: top;\n",
       "    }\n",
       "\n",
       "    .dataframe thead th {\n",
       "        text-align: right;\n",
       "    }\n",
       "</style>\n",
       "<table border=\"1\" class=\"dataframe\">\n",
       "  <thead>\n",
       "    <tr style=\"text-align: right;\">\n",
       "      <th></th>\n",
       "      <th>stations</th>\n",
       "      <th>Date &amp; Period of Survey</th>\n",
       "      <th>PM10</th>\n",
       "      <th>PM2.5</th>\n",
       "      <th>SO2</th>\n",
       "      <th>NO2</th>\n",
       "    </tr>\n",
       "  </thead>\n",
       "  <tbody>\n",
       "    <tr>\n",
       "      <td>0</td>\n",
       "      <td>Anna Nagar</td>\n",
       "      <td>23</td>\n",
       "      <td>23</td>\n",
       "      <td>22</td>\n",
       "      <td>23</td>\n",
       "      <td>23</td>\n",
       "    </tr>\n",
       "    <tr>\n",
       "      <td>1</td>\n",
       "      <td>Kilpauk</td>\n",
       "      <td>60</td>\n",
       "      <td>60</td>\n",
       "      <td>52</td>\n",
       "      <td>60</td>\n",
       "      <td>60</td>\n",
       "    </tr>\n",
       "    <tr>\n",
       "      <td>2</td>\n",
       "      <td>Nungambakkam</td>\n",
       "      <td>138</td>\n",
       "      <td>139</td>\n",
       "      <td>117</td>\n",
       "      <td>139</td>\n",
       "      <td>139</td>\n",
       "    </tr>\n",
       "    <tr>\n",
       "      <td>3</td>\n",
       "      <td>adyar</td>\n",
       "      <td>68</td>\n",
       "      <td>68</td>\n",
       "      <td>57</td>\n",
       "      <td>68</td>\n",
       "      <td>68</td>\n",
       "    </tr>\n",
       "    <tr>\n",
       "      <td>4</td>\n",
       "      <td>t_nagar</td>\n",
       "      <td>76</td>\n",
       "      <td>76</td>\n",
       "      <td>64</td>\n",
       "      <td>76</td>\n",
       "      <td>76</td>\n",
       "    </tr>\n",
       "  </tbody>\n",
       "</table>\n",
       "</div>"
      ],
      "text/plain": [
       "       stations  Date & Period of Survey  PM10  PM2.5  SO2  NO2\n",
       "0    Anna Nagar                       23    23     22   23   23\n",
       "1       Kilpauk                       60    60     52   60   60\n",
       "2  Nungambakkam                      138   139    117  139  139\n",
       "3         adyar                       68    68     57   68   68\n",
       "4       t_nagar                       76    76     64   76   76"
      ]
     },
     "execution_count": 26,
     "metadata": {},
     "output_type": "execute_result"
    }
   ],
   "source": [
    "gas_level_df.groupby('stations').count().reset_index()"
   ]
  },
  {
   "cell_type": "markdown",
   "metadata": {},
   "source": [
    "# Data Distribution of Different Stations\n",
    "### Observation : \n",
    "    - 'Nungambakkam' station has more samples collected\n",
    "    - 'Anna Nagar' station has less samples collected"
   ]
  },
  {
   "cell_type": "code",
   "execution_count": 32,
   "metadata": {},
   "outputs": [
    {
     "data": {
      "text/plain": [
       "<matplotlib.axes._subplots.AxesSubplot at 0x7f194d63d6d8>"
      ]
     },
     "execution_count": 32,
     "metadata": {},
     "output_type": "execute_result"
    },
    {
     "data": {
      "image/png": "[encoded data removed]",
      "text/plain": [
       "<Figure size 432x288 with 1 Axes>"
      ]
     },
     "metadata": {
      "needs_background": "light"
     },
     "output_type": "display_data"
    }
   ],
   "source": [
    "gas_level_df.groupby('stations').count().reset_index().plot('stations', 'PM10', kind='bar')"
   ]
  },
  {
   "cell_type": "markdown",
   "metadata": {},
   "source": [
    "# Correlation Between Each Values"
   ]
  },
  {
   "cell_type": "code",
   "execution_count": 38,
   "metadata": {},
   "outputs": [],
   "source": [
    "gases = ['stations', 'SO2', 'NO2', 'PM10', 'PM2.5']\n"
   ]
  },
  {
   "cell_type": "code",
   "execution_count": 59,
   "metadata": {},
   "outputs": [
    {
     "data": {
      "text/html": [
       "<style  type=\"text/css\" >\n",
       "    #T_c0a088ec_4dbd_11ea_9c61_c0b6f92a526arow0_col0 {\n",
       "            background-color:  #b40426;\n",
       "            color:  #f1f1f1;\n",
       "        }    #T_c0a088ec_4dbd_11ea_9c61_c0b6f92a526arow0_col1 {\n",
       "            background-color:  #3f53c6;\n",
       "            color:  #f1f1f1;\n",
       "        }    #T_c0a088ec_4dbd_11ea_9c61_c0b6f92a526arow0_col2 {\n",
       "            background-color:  #8badfd;\n",
       "            color:  #000000;\n",
       "        }    #T_c0a088ec_4dbd_11ea_9c61_c0b6f92a526arow0_col3 {\n",
       "            background-color:  #3b4cc0;\n",
       "            color:  #f1f1f1;\n",
       "        }    #T_c0a088ec_4dbd_11ea_9c61_c0b6f92a526arow1_col0 {\n",
       "            background-color:  #3b4cc0;\n",
       "            color:  #f1f1f1;\n",
       "        }    #T_c0a088ec_4dbd_11ea_9c61_c0b6f92a526arow1_col1 {\n",
       "            background-color:  #b40426;\n",
       "            color:  #f1f1f1;\n",
       "        }    #T_c0a088ec_4dbd_11ea_9c61_c0b6f92a526arow1_col2 {\n",
       "            background-color:  #3b4cc0;\n",
       "            color:  #f1f1f1;\n",
       "        }    #T_c0a088ec_4dbd_11ea_9c61_c0b6f92a526arow1_col3 {\n",
       "            background-color:  #4055c8;\n",
       "            color:  #f1f1f1;\n",
       "        }    #T_c0a088ec_4dbd_11ea_9c61_c0b6f92a526arow2_col0 {\n",
       "            background-color:  #85a8fc;\n",
       "            color:  #000000;\n",
       "        }    #T_c0a088ec_4dbd_11ea_9c61_c0b6f92a526arow2_col1 {\n",
       "            background-color:  #3b4cc0;\n",
       "            color:  #f1f1f1;\n",
       "        }    #T_c0a088ec_4dbd_11ea_9c61_c0b6f92a526arow2_col2 {\n",
       "            background-color:  #b40426;\n",
       "            color:  #f1f1f1;\n",
       "        }    #T_c0a088ec_4dbd_11ea_9c61_c0b6f92a526arow2_col3 {\n",
       "            background-color:  #6180e9;\n",
       "            color:  #000000;\n",
       "        }    #T_c0a088ec_4dbd_11ea_9c61_c0b6f92a526arow3_col0 {\n",
       "            background-color:  #7a9df8;\n",
       "            color:  #000000;\n",
       "        }    #T_c0a088ec_4dbd_11ea_9c61_c0b6f92a526arow3_col1 {\n",
       "            background-color:  #85a8fc;\n",
       "            color:  #000000;\n",
       "        }    #T_c0a088ec_4dbd_11ea_9c61_c0b6f92a526arow3_col2 {\n",
       "            background-color:  #a1c0ff;\n",
       "            color:  #000000;\n",
       "        }    #T_c0a088ec_4dbd_11ea_9c61_c0b6f92a526arow3_col3 {\n",
       "            background-color:  #b40426;\n",
       "            color:  #f1f1f1;\n",
       "        }</style><table id=\"T_c0a088ec_4dbd_11ea_9c61_c0b6f92a526a\" ><thead>    <tr>        <th class=\"blank level0\" ></th>        <th class=\"col_heading level0 col0\" >SO2</th>        <th class=\"col_heading level0 col1\" >NO2</th>        <th class=\"col_heading level0 col2\" >PM10</th>        <th class=\"col_heading level0 col3\" >PM2.5</th>    </tr></thead><tbody>\n",
       "                <tr>\n",
       "                        <th id=\"T_c0a088ec_4dbd_11ea_9c61_c0b6f92a526alevel0_row0\" class=\"row_heading level0 row0\" >SO2</th>\n",
       "                        <td id=\"T_c0a088ec_4dbd_11ea_9c61_c0b6f92a526arow0_col0\" class=\"data row0 col0\" >1</td>\n",
       "                        <td id=\"T_c0a088ec_4dbd_11ea_9c61_c0b6f92a526arow0_col1\" class=\"data row0 col1\" >-0.16</td>\n",
       "                        <td id=\"T_c0a088ec_4dbd_11ea_9c61_c0b6f92a526arow0_col2\" class=\"data row0 col2\" >0.11</td>\n",
       "                        <td id=\"T_c0a088ec_4dbd_11ea_9c61_c0b6f92a526arow0_col3\" class=\"data row0 col3\" >0.071</td>\n",
       "            </tr>\n",
       "            <tr>\n",
       "                        <th id=\"T_c0a088ec_4dbd_11ea_9c61_c0b6f92a526alevel0_row1\" class=\"row_heading level0 row1\" >NO2</th>\n",
       "                        <td id=\"T_c0a088ec_4dbd_11ea_9c61_c0b6f92a526arow1_col0\" class=\"data row1 col0\" >-0.16</td>\n",
       "                        <td id=\"T_c0a088ec_4dbd_11ea_9c61_c0b6f92a526arow1_col1\" class=\"data row1 col1\" >1</td>\n",
       "                        <td id=\"T_c0a088ec_4dbd_11ea_9c61_c0b6f92a526arow1_col2\" class=\"data row1 col2\" >-0.18</td>\n",
       "                        <td id=\"T_c0a088ec_4dbd_11ea_9c61_c0b6f92a526arow1_col3\" class=\"data row1 col3\" >0.092</td>\n",
       "            </tr>\n",
       "            <tr>\n",
       "                        <th id=\"T_c0a088ec_4dbd_11ea_9c61_c0b6f92a526alevel0_row2\" class=\"row_heading level0 row2\" >PM10</th>\n",
       "                        <td id=\"T_c0a088ec_4dbd_11ea_9c61_c0b6f92a526arow2_col0\" class=\"data row2 col0\" >0.11</td>\n",
       "                        <td id=\"T_c0a088ec_4dbd_11ea_9c61_c0b6f92a526arow2_col1\" class=\"data row2 col1\" >-0.18</td>\n",
       "                        <td id=\"T_c0a088ec_4dbd_11ea_9c61_c0b6f92a526arow2_col2\" class=\"data row2 col2\" >1</td>\n",
       "                        <td id=\"T_c0a088ec_4dbd_11ea_9c61_c0b6f92a526arow2_col3\" class=\"data row2 col3\" >0.18</td>\n",
       "            </tr>\n",
       "            <tr>\n",
       "                        <th id=\"T_c0a088ec_4dbd_11ea_9c61_c0b6f92a526alevel0_row3\" class=\"row_heading level0 row3\" >PM2.5</th>\n",
       "                        <td id=\"T_c0a088ec_4dbd_11ea_9c61_c0b6f92a526arow3_col0\" class=\"data row3 col0\" >0.071</td>\n",
       "                        <td id=\"T_c0a088ec_4dbd_11ea_9c61_c0b6f92a526arow3_col1\" class=\"data row3 col1\" >0.092</td>\n",
       "                        <td id=\"T_c0a088ec_4dbd_11ea_9c61_c0b6f92a526arow3_col2\" class=\"data row3 col2\" >0.18</td>\n",
       "                        <td id=\"T_c0a088ec_4dbd_11ea_9c61_c0b6f92a526arow3_col3\" class=\"data row3 col3\" >1</td>\n",
       "            </tr>\n",
       "    </tbody></table>"
      ],
      "text/plain": [
       "<pandas.io.formats.style.Styler at 0x7f194a35de48>"
      ]
     },
     "execution_count": 59,
     "metadata": {},
     "output_type": "execute_result"
    }
   ],
   "source": [
    "corr = gas_level_df[gas_level_df['stations'] == 't_nagar'][gases].corr()\n",
    "corr.style.background_gradient(cmap='coolwarm').set_precision(2)"
   ]
  },
  {
   "cell_type": "markdown",
   "metadata": {},
   "source": [
    "# Gas Distribution Level "
   ]
  },
  {
   "cell_type": "code",
   "execution_count": 60,
   "metadata": {},
   "outputs": [
    {
     "data": {
      "text/plain": [
       "<matplotlib.axes._subplots.AxesSubplot at 0x7f194a2ab6a0>"
      ]
     },
     "execution_count": 60,
     "metadata": {},
     "output_type": "execute_result"
    },
    {
     "data": {
      "image/png": "[encoded data removed]",
      "text/plain": [
       "<Figure size 432x288 with 1 Axes>"
      ]
     },
     "metadata": {
      "needs_background": "light"
     },
     "output_type": "display_data"
    }
   ],
   "source": [
    "gas_level_df.plot()"
   ]
  },
  {
   "cell_type": "code",
   "execution_count": 61,
   "metadata": {},
   "outputs": [
    {
     "data": {
      "text/plain": [
       "array([[<matplotlib.axes._subplots.AxesSubplot object at 0x7f194a227f60>,\n",
       "        <matplotlib.axes._subplots.AxesSubplot object at 0x7f194a1c99b0>],\n",
       "       [<matplotlib.axes._subplots.AxesSubplot object at 0x7f194a1fae48>,\n",
       "        <matplotlib.axes._subplots.AxesSubplot object at 0x7f194a1b7438>]],\n",
       "      dtype=object)"
      ]
     },
     "execution_count": 61,
     "metadata": {},
     "output_type": "execute_result"
    },
    {
     "data": {
      "image/png": "[encoded data removed]",
      "text/plain": [
       "<Figure size 1440x1440 with 4 Axes>"
      ]
     },
     "metadata": {
      "needs_background": "light"
     },
     "output_type": "display_data"
    }
   ],
   "source": [
    "gas_level_df[gases].hist(figsize=(20, 20))"
   ]
  },
  {
   "cell_type": "markdown",
   "metadata": {},
   "source": [
    "# Area Level Gas Distribution"
   ]
  },
  {
   "cell_type": "code",
   "execution_count": 84,
   "metadata": {},
   "outputs": [
    {
     "data": {
      "text/plain": [
       "<matplotlib.axes._subplots.AxesSubplot at 0x7f1944061780>"
      ]
     },
     "execution_count": 84,
     "metadata": {},
     "output_type": "execute_result"
    },
    {
     "data": {
      "image/png": "[encoded data removed]",
      "text/plain": [
       "<Figure size 432x288 with 1 Axes>"
      ]
     },
     "metadata": {
      "needs_background": "light"
     },
     "output_type": "display_data"
    }
   ],
   "source": [
    "gas_level_df[gas_level_df['stations'] == 't_nagar'].plot()"
   ]
  },
  {
   "cell_type": "code",
   "execution_count": null,
   "metadata": {},
   "outputs": [],
   "source": []
  }
 ],
 "metadata": {
  "kernelspec": {
   "display_name": "Python 3",
   "language": "python",
   "name": "python3"
  },
  "language_info": {
   "codemirror_mode": {
    "name": "ipython",
    "version": 3
   },
   "file_extension": ".py",
   "mimetype": "text/x-python",
   "name": "python",
   "nbconvert_exporter": "python",
   "pygments_lexer": "ipython3",
   "version": "3.6.8"
  }
 },
 "nbformat": 4,
 "nbformat_minor": 2
}
