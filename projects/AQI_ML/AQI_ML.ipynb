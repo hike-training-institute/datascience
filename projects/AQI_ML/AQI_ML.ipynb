{
 "cells": [
  {
   "cell_type": "markdown",
   "metadata": {},
   "source": [
    "## Importing required libraries"
   ]
  },
  {
   "cell_type": "code",
   "execution_count": 1,
   "metadata": {},
   "outputs": [],
   "source": [
    "import pandas as pd\n",
    "import numpy as np\n",
    "import sklearn.metrics as metrics\n",
    "import matplotlib.pyplot as plt\n",
    "from sklearn.model_selection import GridSearchCV"
   ]
  },
  {
   "cell_type": "markdown",
   "metadata": {},
   "source": [
    "## Reading data from disk"
   ]
  },
  {
   "cell_type": "code",
   "execution_count": 2,
   "metadata": {},
   "outputs": [],
   "source": [
    "df = pd.read_excel('Dataset/Book1..xlsx')"
   ]
  },
  {
   "cell_type": "markdown",
   "metadata": {},
   "source": [
    "## Checking DataFrame"
   ]
  },
  {
   "cell_type": "code",
   "execution_count": 3,
   "metadata": {},
   "outputs": [
    {
     "data": {
      "text/html": [
       "<div>\n",
       "<style scoped>\n",
       "    .dataframe tbody tr th:only-of-type {\n",
       "        vertical-align: middle;\n",
       "    }\n",
       "\n",
       "    .dataframe tbody tr th {\n",
       "        vertical-align: top;\n",
       "    }\n",
       "\n",
       "    .dataframe thead th {\n",
       "        text-align: right;\n",
       "    }\n",
       "</style>\n",
       "<table border=\"1\" class=\"dataframe\">\n",
       "  <thead>\n",
       "    <tr style=\"text-align: right;\">\n",
       "      <th></th>\n",
       "      <th>stations</th>\n",
       "      <th>Date &amp; Period of Survey</th>\n",
       "      <th>PM10</th>\n",
       "      <th>PM2.5</th>\n",
       "      <th>SO2</th>\n",
       "      <th>NO2</th>\n",
       "      <th>AQI</th>\n",
       "    </tr>\n",
       "  </thead>\n",
       "  <tbody>\n",
       "    <tr>\n",
       "      <th>0</th>\n",
       "      <td>Anna Nagar</td>\n",
       "      <td>2019-02-01 00:00:00</td>\n",
       "      <td>106</td>\n",
       "      <td>40.0</td>\n",
       "      <td>11</td>\n",
       "      <td>18</td>\n",
       "      <td>68</td>\n",
       "    </tr>\n",
       "    <tr>\n",
       "      <th>1</th>\n",
       "      <td>Anna Nagar</td>\n",
       "      <td>2019-05-07 00:00:00</td>\n",
       "      <td>119</td>\n",
       "      <td>31.0</td>\n",
       "      <td>14</td>\n",
       "      <td>26</td>\n",
       "      <td>63</td>\n",
       "    </tr>\n",
       "    <tr>\n",
       "      <th>2</th>\n",
       "      <td>Nungambakkam</td>\n",
       "      <td>2019-04-07 00:00:00</td>\n",
       "      <td>126</td>\n",
       "      <td>35.0</td>\n",
       "      <td>13</td>\n",
       "      <td>29</td>\n",
       "      <td>70</td>\n",
       "    </tr>\n",
       "    <tr>\n",
       "      <th>3</th>\n",
       "      <td>Anna Nagar</td>\n",
       "      <td>2019-07-01 00:00:00</td>\n",
       "      <td>94</td>\n",
       "      <td>31.0</td>\n",
       "      <td>13</td>\n",
       "      <td>20</td>\n",
       "      <td>63</td>\n",
       "    </tr>\n",
       "    <tr>\n",
       "      <th>4</th>\n",
       "      <td>Nungambakkam</td>\n",
       "      <td>2019-08-01 00:00:00</td>\n",
       "      <td>72</td>\n",
       "      <td>39.0</td>\n",
       "      <td>14</td>\n",
       "      <td>22</td>\n",
       "      <td>63</td>\n",
       "    </tr>\n",
       "  </tbody>\n",
       "</table>\n",
       "</div>"
      ],
      "text/plain": [
       "       stations Date & Period of Survey  PM10  PM2.5  SO2  NO2  AQI\n",
       "0    Anna Nagar     2019-02-01 00:00:00   106   40.0   11   18   68\n",
       "1    Anna Nagar     2019-05-07 00:00:00   119   31.0   14   26   63\n",
       "2  Nungambakkam     2019-04-07 00:00:00   126   35.0   13   29   70\n",
       "3    Anna Nagar     2019-07-01 00:00:00    94   31.0   13   20   63\n",
       "4  Nungambakkam     2019-08-01 00:00:00    72   39.0   14   22   63"
      ]
     },
     "execution_count": 3,
     "metadata": {},
     "output_type": "execute_result"
    }
   ],
   "source": [
    "df.head(5)"
   ]
  },
  {
   "cell_type": "markdown",
   "metadata": {},
   "source": [
    "## Exploratory Data Analaysis"
   ]
  },
  {
   "cell_type": "markdown",
   "metadata": {},
   "source": [
    "#### Pandas dataframe.info() function is used to get a concise summary of the dataframe."
   ]
  },
  {
   "cell_type": "code",
   "execution_count": 4,
   "metadata": {},
   "outputs": [
    {
     "name": "stdout",
     "output_type": "stream",
     "text": [
      "<class 'pandas.core.frame.DataFrame'>\n",
      "RangeIndex: 366 entries, 0 to 365\n",
      "Data columns (total 7 columns):\n",
      "stations                   366 non-null object\n",
      "Date & Period of Survey    365 non-null object\n",
      "PM10                       366 non-null int64\n",
      "PM2.5                      312 non-null float64\n",
      "SO2                        366 non-null int64\n",
      "NO2                        366 non-null int64\n",
      "AQI                        366 non-null int64\n",
      "dtypes: float64(1), int64(4), object(2)\n",
      "memory usage: 20.1+ KB\n"
     ]
    }
   ],
   "source": [
    "df.info()"
   ]
  },
  {
   "cell_type": "markdown",
   "metadata": {},
   "source": [
    "#### Pandas describe() is used to view some basic statistical details like percentile, mean, std etc of a data frame or a series of numeric values ."
   ]
  },
  {
   "cell_type": "code",
   "execution_count": 5,
   "metadata": {},
   "outputs": [
    {
     "data": {
      "text/html": [
       "<div>\n",
       "<style scoped>\n",
       "    .dataframe tbody tr th:only-of-type {\n",
       "        vertical-align: middle;\n",
       "    }\n",
       "\n",
       "    .dataframe tbody tr th {\n",
       "        vertical-align: top;\n",
       "    }\n",
       "\n",
       "    .dataframe thead th {\n",
       "        text-align: right;\n",
       "    }\n",
       "</style>\n",
       "<table border=\"1\" class=\"dataframe\">\n",
       "  <thead>\n",
       "    <tr style=\"text-align: right;\">\n",
       "      <th></th>\n",
       "      <th>PM10</th>\n",
       "      <th>PM2.5</th>\n",
       "      <th>SO2</th>\n",
       "      <th>NO2</th>\n",
       "      <th>AQI</th>\n",
       "    </tr>\n",
       "  </thead>\n",
       "  <tbody>\n",
       "    <tr>\n",
       "      <th>count</th>\n",
       "      <td>366.000000</td>\n",
       "      <td>312.000000</td>\n",
       "      <td>366.000000</td>\n",
       "      <td>366.000000</td>\n",
       "      <td>366.000000</td>\n",
       "    </tr>\n",
       "    <tr>\n",
       "      <th>mean</th>\n",
       "      <td>114.035519</td>\n",
       "      <td>41.871795</td>\n",
       "      <td>10.568306</td>\n",
       "      <td>20.295082</td>\n",
       "      <td>91.459016</td>\n",
       "    </tr>\n",
       "    <tr>\n",
       "      <th>std</th>\n",
       "      <td>34.729978</td>\n",
       "      <td>10.247558</td>\n",
       "      <td>1.983350</td>\n",
       "      <td>2.675168</td>\n",
       "      <td>31.363048</td>\n",
       "    </tr>\n",
       "    <tr>\n",
       "      <th>min</th>\n",
       "      <td>11.000000</td>\n",
       "      <td>12.000000</td>\n",
       "      <td>7.000000</td>\n",
       "      <td>1.000000</td>\n",
       "      <td>23.000000</td>\n",
       "    </tr>\n",
       "    <tr>\n",
       "      <th>25%</th>\n",
       "      <td>94.000000</td>\n",
       "      <td>35.000000</td>\n",
       "      <td>10.000000</td>\n",
       "      <td>19.000000</td>\n",
       "      <td>68.000000</td>\n",
       "    </tr>\n",
       "    <tr>\n",
       "      <th>50%</th>\n",
       "      <td>115.500000</td>\n",
       "      <td>44.500000</td>\n",
       "      <td>11.000000</td>\n",
       "      <td>21.000000</td>\n",
       "      <td>93.000000</td>\n",
       "    </tr>\n",
       "    <tr>\n",
       "      <th>75%</th>\n",
       "      <td>135.000000</td>\n",
       "      <td>50.000000</td>\n",
       "      <td>12.000000</td>\n",
       "      <td>22.000000</td>\n",
       "      <td>109.000000</td>\n",
       "    </tr>\n",
       "    <tr>\n",
       "      <th>max</th>\n",
       "      <td>231.000000</td>\n",
       "      <td>59.000000</td>\n",
       "      <td>30.000000</td>\n",
       "      <td>29.000000</td>\n",
       "      <td>242.000000</td>\n",
       "    </tr>\n",
       "  </tbody>\n",
       "</table>\n",
       "</div>"
      ],
      "text/plain": [
       "             PM10       PM2.5         SO2         NO2         AQI\n",
       "count  366.000000  312.000000  366.000000  366.000000  366.000000\n",
       "mean   114.035519   41.871795   10.568306   20.295082   91.459016\n",
       "std     34.729978   10.247558    1.983350    2.675168   31.363048\n",
       "min     11.000000   12.000000    7.000000    1.000000   23.000000\n",
       "25%     94.000000   35.000000   10.000000   19.000000   68.000000\n",
       "50%    115.500000   44.500000   11.000000   21.000000   93.000000\n",
       "75%    135.000000   50.000000   12.000000   22.000000  109.000000\n",
       "max    231.000000   59.000000   30.000000   29.000000  242.000000"
      ]
     },
     "execution_count": 5,
     "metadata": {},
     "output_type": "execute_result"
    }
   ],
   "source": [
    "df.describe()"
   ]
  },
  {
   "cell_type": "markdown",
   "metadata": {},
   "source": [
    "#### DataFrame stores the number of rows and columns as a tuple (number of rows, number of columns) ."
   ]
  },
  {
   "cell_type": "code",
   "execution_count": 6,
   "metadata": {},
   "outputs": [
    {
     "data": {
      "text/plain": [
       "(366, 7)"
      ]
     },
     "execution_count": 6,
     "metadata": {},
     "output_type": "execute_result"
    }
   ],
   "source": [
    "df.shape"
   ]
  },
  {
   "cell_type": "markdown",
   "metadata": {},
   "source": [
    "## Preprocessing the data"
   ]
  },
  {
   "cell_type": "markdown",
   "metadata": {},
   "source": [
    "#### Filling NaN using Mean"
   ]
  },
  {
   "cell_type": "code",
   "execution_count": 7,
   "metadata": {},
   "outputs": [],
   "source": [
    "df = df.fillna(df.mean())  "
   ]
  },
  {
   "cell_type": "markdown",
   "metadata": {},
   "source": [
    "#### Label Encoding refers to converting the labels into numeric form so as to convert it into the machine-readable form."
   ]
  },
  {
   "cell_type": "code",
   "execution_count": 8,
   "metadata": {},
   "outputs": [
    {
     "data": {
      "text/html": [
       "<div>\n",
       "<style scoped>\n",
       "    .dataframe tbody tr th:only-of-type {\n",
       "        vertical-align: middle;\n",
       "    }\n",
       "\n",
       "    .dataframe tbody tr th {\n",
       "        vertical-align: top;\n",
       "    }\n",
       "\n",
       "    .dataframe thead th {\n",
       "        text-align: right;\n",
       "    }\n",
       "</style>\n",
       "<table border=\"1\" class=\"dataframe\">\n",
       "  <thead>\n",
       "    <tr style=\"text-align: right;\">\n",
       "      <th></th>\n",
       "      <th>stations</th>\n",
       "      <th>Date &amp; Period of Survey</th>\n",
       "      <th>PM10</th>\n",
       "      <th>PM2.5</th>\n",
       "      <th>SO2</th>\n",
       "      <th>NO2</th>\n",
       "      <th>AQI</th>\n",
       "      <th>le_stations</th>\n",
       "    </tr>\n",
       "  </thead>\n",
       "  <tbody>\n",
       "    <tr>\n",
       "      <th>361</th>\n",
       "      <td>t.nagar</td>\n",
       "      <td>13/11/2019</td>\n",
       "      <td>149</td>\n",
       "      <td>41.871795</td>\n",
       "      <td>11</td>\n",
       "      <td>17</td>\n",
       "      <td>67</td>\n",
       "      <td>7</td>\n",
       "    </tr>\n",
       "    <tr>\n",
       "      <th>362</th>\n",
       "      <td>Nungambakkam</td>\n",
       "      <td>13/11/2019</td>\n",
       "      <td>143</td>\n",
       "      <td>46.000000</td>\n",
       "      <td>12</td>\n",
       "      <td>21</td>\n",
       "      <td>109</td>\n",
       "      <td>2</td>\n",
       "    </tr>\n",
       "    <tr>\n",
       "      <th>363</th>\n",
       "      <td>t.nagar</td>\n",
       "      <td>14/11/2019</td>\n",
       "      <td>117</td>\n",
       "      <td>55.000000</td>\n",
       "      <td>11</td>\n",
       "      <td>21</td>\n",
       "      <td>93</td>\n",
       "      <td>7</td>\n",
       "    </tr>\n",
       "    <tr>\n",
       "      <th>364</th>\n",
       "      <td>Nungambakkam</td>\n",
       "      <td>14/11/2019</td>\n",
       "      <td>176</td>\n",
       "      <td>43.000000</td>\n",
       "      <td>12</td>\n",
       "      <td>21</td>\n",
       "      <td>62</td>\n",
       "      <td>2</td>\n",
       "    </tr>\n",
       "    <tr>\n",
       "      <th>365</th>\n",
       "      <td>adyar</td>\n",
       "      <td>15/11/2019</td>\n",
       "      <td>117</td>\n",
       "      <td>41.871795</td>\n",
       "      <td>11</td>\n",
       "      <td>16</td>\n",
       "      <td>115</td>\n",
       "      <td>4</td>\n",
       "    </tr>\n",
       "  </tbody>\n",
       "</table>\n",
       "</div>"
      ],
      "text/plain": [
       "         stations Date & Period of Survey  PM10      PM2.5  SO2  NO2  AQI  \\\n",
       "361       t.nagar              13/11/2019   149  41.871795   11   17   67   \n",
       "362  Nungambakkam              13/11/2019   143  46.000000   12   21  109   \n",
       "363       t.nagar              14/11/2019   117  55.000000   11   21   93   \n",
       "364  Nungambakkam              14/11/2019   176  43.000000   12   21   62   \n",
       "365         adyar              15/11/2019   117  41.871795   11   16  115   \n",
       "\n",
       "     le_stations  \n",
       "361            7  \n",
       "362            2  \n",
       "363            7  \n",
       "364            2  \n",
       "365            4  "
      ]
     },
     "execution_count": 8,
     "metadata": {},
     "output_type": "execute_result"
    }
   ],
   "source": [
    "from sklearn.preprocessing import LabelEncoder\n",
    "lbl=LabelEncoder()\n",
    "df['le_stations'] = lbl.fit_transform(df['stations'])\n",
    "df.tail()"
   ]
  },
  {
   "cell_type": "markdown",
   "metadata": {},
   "source": [
    "#### Droping down Non usage columns "
   ]
  },
  {
   "cell_type": "code",
   "execution_count": 9,
   "metadata": {},
   "outputs": [],
   "source": [
    "df= df.drop(['stations','Date & Period of Survey'], axis=1)"
   ]
  },
  {
   "cell_type": "code",
   "execution_count": 10,
   "metadata": {},
   "outputs": [
    {
     "data": {
      "text/html": [
       "<div>\n",
       "<style scoped>\n",
       "    .dataframe tbody tr th:only-of-type {\n",
       "        vertical-align: middle;\n",
       "    }\n",
       "\n",
       "    .dataframe tbody tr th {\n",
       "        vertical-align: top;\n",
       "    }\n",
       "\n",
       "    .dataframe thead th {\n",
       "        text-align: right;\n",
       "    }\n",
       "</style>\n",
       "<table border=\"1\" class=\"dataframe\">\n",
       "  <thead>\n",
       "    <tr style=\"text-align: right;\">\n",
       "      <th></th>\n",
       "      <th>PM10</th>\n",
       "      <th>PM2.5</th>\n",
       "      <th>SO2</th>\n",
       "      <th>NO2</th>\n",
       "      <th>AQI</th>\n",
       "      <th>le_stations</th>\n",
       "    </tr>\n",
       "  </thead>\n",
       "  <tbody>\n",
       "    <tr>\n",
       "      <th>0</th>\n",
       "      <td>106</td>\n",
       "      <td>40.0</td>\n",
       "      <td>11</td>\n",
       "      <td>18</td>\n",
       "      <td>68</td>\n",
       "      <td>0</td>\n",
       "    </tr>\n",
       "    <tr>\n",
       "      <th>1</th>\n",
       "      <td>119</td>\n",
       "      <td>31.0</td>\n",
       "      <td>14</td>\n",
       "      <td>26</td>\n",
       "      <td>63</td>\n",
       "      <td>0</td>\n",
       "    </tr>\n",
       "    <tr>\n",
       "      <th>2</th>\n",
       "      <td>126</td>\n",
       "      <td>35.0</td>\n",
       "      <td>13</td>\n",
       "      <td>29</td>\n",
       "      <td>70</td>\n",
       "      <td>2</td>\n",
       "    </tr>\n",
       "    <tr>\n",
       "      <th>3</th>\n",
       "      <td>94</td>\n",
       "      <td>31.0</td>\n",
       "      <td>13</td>\n",
       "      <td>20</td>\n",
       "      <td>63</td>\n",
       "      <td>0</td>\n",
       "    </tr>\n",
       "    <tr>\n",
       "      <th>4</th>\n",
       "      <td>72</td>\n",
       "      <td>39.0</td>\n",
       "      <td>14</td>\n",
       "      <td>22</td>\n",
       "      <td>63</td>\n",
       "      <td>2</td>\n",
       "    </tr>\n",
       "  </tbody>\n",
       "</table>\n",
       "</div>"
      ],
      "text/plain": [
       "   PM10  PM2.5  SO2  NO2  AQI  le_stations\n",
       "0   106   40.0   11   18   68            0\n",
       "1   119   31.0   14   26   63            0\n",
       "2   126   35.0   13   29   70            2\n",
       "3    94   31.0   13   20   63            0\n",
       "4    72   39.0   14   22   63            2"
      ]
     },
     "execution_count": 10,
     "metadata": {},
     "output_type": "execute_result"
    }
   ],
   "source": [
    "df.head()"
   ]
  },
  {
   "cell_type": "markdown",
   "metadata": {},
   "source": [
    "#### Co relation gives you the measure of the strength of association between two variables.\n",
    "#### Correlation Coefficient can be between -1 to +1. 1 means that they are highly correlated and 0 means no correlation"
   ]
  },
  {
   "cell_type": "code",
   "execution_count": 11,
   "metadata": {},
   "outputs": [
    {
     "data": {
      "text/html": [
       "<div>\n",
       "<style scoped>\n",
       "    .dataframe tbody tr th:only-of-type {\n",
       "        vertical-align: middle;\n",
       "    }\n",
       "\n",
       "    .dataframe tbody tr th {\n",
       "        vertical-align: top;\n",
       "    }\n",
       "\n",
       "    .dataframe thead th {\n",
       "        text-align: right;\n",
       "    }\n",
       "</style>\n",
       "<table border=\"1\" class=\"dataframe\">\n",
       "  <thead>\n",
       "    <tr style=\"text-align: right;\">\n",
       "      <th></th>\n",
       "      <th>PM10</th>\n",
       "      <th>PM2.5</th>\n",
       "      <th>SO2</th>\n",
       "      <th>NO2</th>\n",
       "      <th>AQI</th>\n",
       "      <th>le_stations</th>\n",
       "    </tr>\n",
       "  </thead>\n",
       "  <tbody>\n",
       "    <tr>\n",
       "      <th>PM10</th>\n",
       "      <td>1.000000</td>\n",
       "      <td>0.234791</td>\n",
       "      <td>0.046521</td>\n",
       "      <td>0.012626</td>\n",
       "      <td>-0.088578</td>\n",
       "      <td>0.061144</td>\n",
       "    </tr>\n",
       "    <tr>\n",
       "      <th>PM2.5</th>\n",
       "      <td>0.234791</td>\n",
       "      <td>1.000000</td>\n",
       "      <td>0.025253</td>\n",
       "      <td>0.069181</td>\n",
       "      <td>0.009061</td>\n",
       "      <td>0.081860</td>\n",
       "    </tr>\n",
       "    <tr>\n",
       "      <th>SO2</th>\n",
       "      <td>0.046521</td>\n",
       "      <td>0.025253</td>\n",
       "      <td>1.000000</td>\n",
       "      <td>0.107209</td>\n",
       "      <td>0.015659</td>\n",
       "      <td>-0.122707</td>\n",
       "    </tr>\n",
       "    <tr>\n",
       "      <th>NO2</th>\n",
       "      <td>0.012626</td>\n",
       "      <td>0.069181</td>\n",
       "      <td>0.107209</td>\n",
       "      <td>1.000000</td>\n",
       "      <td>-0.014158</td>\n",
       "      <td>-0.044064</td>\n",
       "    </tr>\n",
       "    <tr>\n",
       "      <th>AQI</th>\n",
       "      <td>-0.088578</td>\n",
       "      <td>0.009061</td>\n",
       "      <td>0.015659</td>\n",
       "      <td>-0.014158</td>\n",
       "      <td>1.000000</td>\n",
       "      <td>-0.140083</td>\n",
       "    </tr>\n",
       "    <tr>\n",
       "      <th>le_stations</th>\n",
       "      <td>0.061144</td>\n",
       "      <td>0.081860</td>\n",
       "      <td>-0.122707</td>\n",
       "      <td>-0.044064</td>\n",
       "      <td>-0.140083</td>\n",
       "      <td>1.000000</td>\n",
       "    </tr>\n",
       "  </tbody>\n",
       "</table>\n",
       "</div>"
      ],
      "text/plain": [
       "                 PM10     PM2.5       SO2       NO2       AQI  le_stations\n",
       "PM10         1.000000  0.234791  0.046521  0.012626 -0.088578     0.061144\n",
       "PM2.5        0.234791  1.000000  0.025253  0.069181  0.009061     0.081860\n",
       "SO2          0.046521  0.025253  1.000000  0.107209  0.015659    -0.122707\n",
       "NO2          0.012626  0.069181  0.107209  1.000000 -0.014158    -0.044064\n",
       "AQI         -0.088578  0.009061  0.015659 -0.014158  1.000000    -0.140083\n",
       "le_stations  0.061144  0.081860 -0.122707 -0.044064 -0.140083     1.000000"
      ]
     },
     "execution_count": 11,
     "metadata": {},
     "output_type": "execute_result"
    }
   ],
   "source": [
    "df.corr()"
   ]
  },
  {
   "cell_type": "markdown",
   "metadata": {},
   "source": [
    "#### A histogram is a representation of the distribution of data. This function groups the values of all given Series in the DataFrame into bins and draws all bins in one matplotlib. axes"
   ]
  },
  {
   "cell_type": "code",
   "execution_count": 12,
   "metadata": {},
   "outputs": [
    {
     "data": {
      "image/png": "[encoded data removed]",
      "text/plain": [
       "<Figure size 1440x720 with 18 Axes>"
      ]
     },
     "metadata": {
      "needs_background": "light"
     },
     "output_type": "display_data"
    }
   ],
   "source": [
    "df.hist(figsize = (20, 10), layout=(6, 3), bins = 'auto')\n",
    "plt.tight_layout()\n",
    "plt.show()"
   ]
  },
  {
   "cell_type": "markdown",
   "metadata": {},
   "source": [
    "## Machine Learning Algorthim"
   ]
  },
  {
   "cell_type": "markdown",
   "metadata": {},
   "source": [
    "### 1.Linear regression - Importing required library"
   ]
  },
  {
   "cell_type": "code",
   "execution_count": 13,
   "metadata": {},
   "outputs": [],
   "source": [
    "from sklearn.linear_model import LinearRegression"
   ]
  },
  {
   "cell_type": "markdown",
   "metadata": {},
   "source": [
    "#### For linear regression creating x,y instance"
   ]
  },
  {
   "cell_type": "code",
   "execution_count": 14,
   "metadata": {},
   "outputs": [],
   "source": [
    "X = df.drop(['AQI'], axis = 1 ) \n",
    "y = df.AQI"
   ]
  },
  {
   "cell_type": "markdown",
   "metadata": {},
   "source": [
    "#### Applying Linear regression , then converting the fit data to dataframe . Traing the data and getting the score"
   ]
  },
  {
   "cell_type": "code",
   "execution_count": 15,
   "metadata": {},
   "outputs": [
    {
     "name": "stdout",
     "output_type": "stream",
     "text": [
      "0.02816865713902528\n"
     ]
    },
    {
     "data": {
      "text/html": [
       "<div>\n",
       "<style scoped>\n",
       "    .dataframe tbody tr th:only-of-type {\n",
       "        vertical-align: middle;\n",
       "    }\n",
       "\n",
       "    .dataframe tbody tr th {\n",
       "        vertical-align: top;\n",
       "    }\n",
       "\n",
       "    .dataframe thead th {\n",
       "        text-align: right;\n",
       "    }\n",
       "</style>\n",
       "<table border=\"1\" class=\"dataframe\">\n",
       "  <thead>\n",
       "    <tr style=\"text-align: right;\">\n",
       "      <th></th>\n",
       "      <th>aqi_lr</th>\n",
       "    </tr>\n",
       "  </thead>\n",
       "  <tbody>\n",
       "    <tr>\n",
       "      <th>PM10</th>\n",
       "      <td>-0.081378</td>\n",
       "    </tr>\n",
       "    <tr>\n",
       "      <th>PM2.5</th>\n",
       "      <td>0.142629</td>\n",
       "    </tr>\n",
       "    <tr>\n",
       "      <th>SO2</th>\n",
       "      <td>0.066068</td>\n",
       "    </tr>\n",
       "    <tr>\n",
       "      <th>NO2</th>\n",
       "      <td>-0.264374</td>\n",
       "    </tr>\n",
       "    <tr>\n",
       "      <th>le_stations</th>\n",
       "      <td>-1.897334</td>\n",
       "    </tr>\n",
       "  </tbody>\n",
       "</table>\n",
       "</div>"
      ],
      "text/plain": [
       "               aqi_lr\n",
       "PM10        -0.081378\n",
       "PM2.5        0.142629\n",
       "SO2          0.066068\n",
       "NO2         -0.264374\n",
       "le_stations -1.897334"
      ]
     },
     "execution_count": 15,
     "metadata": {},
     "output_type": "execute_result"
    }
   ],
   "source": [
    "regressor = LinearRegression()  \n",
    "train_LR = regressor.fit(X,y)\n",
    "lr_score=train_LR.score(X,y)\n",
    "print(lr_score)\n",
    "aqi_Lr= pd.DataFrame(regressor.coef_, X.columns, columns=['aqi_lr'])  \n",
    "aqi_Lr"
   ]
  },
  {
   "cell_type": "markdown",
   "metadata": {},
   "source": [
    "### 2. Ridge Regression"
   ]
  },
  {
   "cell_type": "code",
   "execution_count": 16,
   "metadata": {},
   "outputs": [],
   "source": [
    "from sklearn.linear_model import Ridge"
   ]
  },
  {
   "cell_type": "code",
   "execution_count": 17,
   "metadata": {},
   "outputs": [
    {
     "name": "stderr",
     "output_type": "stream",
     "text": [
      "/home/nandagopal/PycharmProjects/data-science-class/venv/lib/python3.6/site-packages/sklearn/model_selection/_split.py:1978: FutureWarning: The default value of cv will change from 3 to 5 in version 0.22. Specify it explicitly to silence this warning.\n",
      "  warnings.warn(CV_WARNING, FutureWarning)\n"
     ]
    },
    {
     "data": {
      "text/plain": [
       "GridSearchCV(cv='warn', error_score='raise-deprecating',\n",
       "             estimator=Ridge(alpha=1.0, copy_X=True, fit_intercept=True,\n",
       "                             max_iter=None, normalize=False, random_state=None,\n",
       "                             solver='auto', tol=0.001),\n",
       "             iid='warn', n_jobs=None,\n",
       "             param_grid={'alpha': [0.2, 0.4, 0.6, 0.8, 1.0, 1.5, 2, 3, 4]},\n",
       "             pre_dispatch='2*n_jobs', refit=True, return_train_score=False,\n",
       "             scoring=None, verbose=0)"
      ]
     },
     "execution_count": 17,
     "metadata": {},
     "output_type": "execute_result"
    }
   ],
   "source": [
    "param_grid = {'alpha' : [0.2, 0.4, 0.6, 0.8, 1.0, 1.5, 2, 3, 4]}\n",
    "ridge = Ridge()\n",
    "grid_search = GridSearchCV(ridge, param_grid=param_grid)\n",
    "grid_search.fit(X,y)"
   ]
  },
  {
   "cell_type": "code",
   "execution_count": 18,
   "metadata": {},
   "outputs": [
    {
     "name": "stdout",
     "output_type": "stream",
     "text": [
      "{'alpha': 4}\n",
      "Ridge(alpha=4, copy_X=True, fit_intercept=True, max_iter=None, normalize=False,\n",
      "      random_state=None, solver='auto', tol=0.001)\n",
      "0.02816856990915184\n"
     ]
    }
   ],
   "source": [
    "\n",
    "print(grid_search.best_params_)\n",
    "print(grid_search.best_estimator_)\n",
    "print(grid_search.score(X, y))"
   ]
  },
  {
   "cell_type": "markdown",
   "metadata": {},
   "source": [
    "### 3. Lasso Regression"
   ]
  },
  {
   "cell_type": "code",
   "execution_count": 19,
   "metadata": {},
   "outputs": [],
   "source": [
    "from sklearn.linear_model import Lasso"
   ]
  },
  {
   "cell_type": "code",
   "execution_count": 20,
   "metadata": {},
   "outputs": [
    {
     "name": "stderr",
     "output_type": "stream",
     "text": [
      "/home/nandagopal/PycharmProjects/data-science-class/venv/lib/python3.6/site-packages/sklearn/model_selection/_split.py:1978: FutureWarning: The default value of cv will change from 3 to 5 in version 0.22. Specify it explicitly to silence this warning.\n",
      "  warnings.warn(CV_WARNING, FutureWarning)\n"
     ]
    },
    {
     "data": {
      "text/plain": [
       "GridSearchCV(cv='warn', error_score='raise-deprecating',\n",
       "             estimator=Lasso(alpha=1.0, copy_X=True, fit_intercept=True,\n",
       "                             max_iter=1000, normalize=False, positive=False,\n",
       "                             precompute=False, random_state=None,\n",
       "                             selection='cyclic', tol=0.0001, warm_start=False),\n",
       "             iid='warn', n_jobs=None,\n",
       "             param_grid={'alpha': [0.2, 0.4, 0.6, 0.8, 1.0, 1.5, 2, 3, 4],\n",
       "                         'normalize': [True, False]},\n",
       "             pre_dispatch='2*n_jobs', refit=True, return_train_score=False,\n",
       "             scoring=None, verbose=0)"
      ]
     },
     "execution_count": 20,
     "metadata": {},
     "output_type": "execute_result"
    }
   ],
   "source": [
    "\n",
    "param_grid = {'alpha' : [0.2, 0.4, 0.6, 0.8, 1.0, 1.5, 2, 3, 4], \n",
    "             'normalize' : [True, False]}\n",
    "lasso = Lasso()\n",
    "grid_search = GridSearchCV(lasso, param_grid=param_grid)\n",
    "grid_search.fit(X,y)"
   ]
  },
  {
   "cell_type": "code",
   "execution_count": 21,
   "metadata": {},
   "outputs": [
    {
     "name": "stdout",
     "output_type": "stream",
     "text": [
      "{'alpha': 0.6, 'normalize': True}\n",
      "Lasso(alpha=0.6, copy_X=True, fit_intercept=True, max_iter=1000, normalize=True,\n",
      "      positive=False, precompute=False, random_state=None, selection='cyclic',\n",
      "      tol=0.0001, warm_start=False)\n",
      "0.0\n"
     ]
    }
   ],
   "source": [
    "print(grid_search.best_params_)\n",
    "print(grid_search.best_estimator_)\n",
    "print(grid_search.score(X, y))"
   ]
  },
  {
   "cell_type": "code",
   "execution_count": null,
   "metadata": {},
   "outputs": [],
   "source": []
  },
  {
   "cell_type": "code",
   "execution_count": 22,
   "metadata": {},
   "outputs": [],
   "source": [
    "### Elastic Net "
   ]
  },
  {
   "cell_type": "code",
   "execution_count": 23,
   "metadata": {},
   "outputs": [],
   "source": [
    "from sklearn.linear_model import ElasticNet"
   ]
  },
  {
   "cell_type": "code",
   "execution_count": 24,
   "metadata": {},
   "outputs": [
    {
     "name": "stderr",
     "output_type": "stream",
     "text": [
      "/home/nandagopal/PycharmProjects/data-science-class/venv/lib/python3.6/site-packages/sklearn/model_selection/_split.py:1978: FutureWarning: The default value of cv will change from 3 to 5 in version 0.22. Specify it explicitly to silence this warning.\n",
      "  warnings.warn(CV_WARNING, FutureWarning)\n"
     ]
    },
    {
     "data": {
      "text/plain": [
       "GridSearchCV(cv='warn', error_score='raise-deprecating',\n",
       "             estimator=ElasticNet(alpha=1.0, copy_X=True, fit_intercept=True,\n",
       "                                  l1_ratio=0.5, max_iter=1000, normalize=False,\n",
       "                                  positive=False, precompute=False,\n",
       "                                  random_state=None, selection='cyclic',\n",
       "                                  tol=0.0001, warm_start=False),\n",
       "             iid='warn', n_jobs=None,\n",
       "             param_grid={'alpha': [0.2, 0.4, 0.6, 0.8, 1.0, 1.5, 2, 3, 4],\n",
       "                         'l1_ratio': [0.2, 0.4, 0.6, 0.8],\n",
       "                         'normalize': [True, False]},\n",
       "             pre_dispatch='2*n_jobs', refit=True, return_train_score=False,\n",
       "             scoring=None, verbose=0)"
      ]
     },
     "execution_count": 24,
     "metadata": {},
     "output_type": "execute_result"
    }
   ],
   "source": [
    "elastic_net = ElasticNet()\n",
    "param_grid = {'alpha' : [0.2, 0.4, 0.6, 0.8, 1.0, 1.5, 2, 3, 4], \n",
    "             'normalize' : [True, False],\n",
    "             'l1_ratio': [0.2, 0.4, 0.6, 0.8]}\n",
    "grid_search = GridSearchCV(elastic_net, param_grid=param_grid)\n",
    "grid_search.fit(X,y)"
   ]
  },
  {
   "cell_type": "code",
   "execution_count": 25,
   "metadata": {},
   "outputs": [
    {
     "name": "stdout",
     "output_type": "stream",
     "text": [
      "{'alpha': 0.2, 'l1_ratio': 0.2, 'normalize': True}\n",
      "ElasticNet(alpha=0.2, copy_X=True, fit_intercept=True, l1_ratio=0.2,\n",
      "           max_iter=1000, normalize=True, positive=False, precompute=False,\n",
      "           random_state=None, selection='cyclic', tol=0.0001, warm_start=False)\n",
      "0.0007289632262459377\n"
     ]
    }
   ],
   "source": [
    "print(grid_search.best_params_)\n",
    "print(grid_search.best_estimator_)\n",
    "print(grid_search.score(X, y))"
   ]
  },
  {
   "cell_type": "code",
   "execution_count": null,
   "metadata": {},
   "outputs": [],
   "source": []
  },
  {
   "cell_type": "code",
   "execution_count": null,
   "metadata": {},
   "outputs": [],
   "source": []
  },
  {
   "cell_type": "markdown",
   "metadata": {},
   "source": [
    "### K Nearest Neighbor"
   ]
  },
  {
   "cell_type": "markdown",
   "metadata": {},
   "source": [
    "#### Importing K nearest lib"
   ]
  },
  {
   "cell_type": "code",
   "execution_count": 26,
   "metadata": {},
   "outputs": [],
   "source": [
    "from sklearn.neighbors import KNeighborsRegressor"
   ]
  },
  {
   "cell_type": "markdown",
   "metadata": {},
   "source": [
    "#### Applying K Nearest Neighbor, setting the nearest range. Traing the data and getting the score"
   ]
  },
  {
   "cell_type": "code",
   "execution_count": 27,
   "metadata": {},
   "outputs": [
    {
     "name": "stdout",
     "output_type": "stream",
     "text": [
      "0.5524559259627588\n"
     ]
    }
   ],
   "source": [
    "scores= []\n",
    "k = []\n",
    "for i in range(2,30):\n",
    "    knn = KNeighborsRegressor(n_neighbors=i)\n",
    "    knn.fit(X,y)\n",
    "    k_re=knn.score(X,y)\n",
    "    scores.append(k_re)\n",
    "    k.append(i)\n",
    "    #print(k_re)\n",
    "knn_max_scor = np.max(scores)\n",
    "print(knn_max_scor)"
   ]
  },
  {
   "cell_type": "markdown",
   "metadata": {},
   "source": [
    "#### Accuracy for different K Values"
   ]
  },
  {
   "cell_type": "code",
   "execution_count": 28,
   "metadata": {},
   "outputs": [
    {
     "data": {
      "text/plain": [
       "[<matplotlib.lines.Line2D at 0x7f1941e47208>]"
      ]
     },
     "execution_count": 28,
     "metadata": {},
     "output_type": "execute_result"
    },
    {
     "data": {
      "image/png": "[encoded data removed]",
      "text/plain": [
       "<Figure size 432x288 with 1 Axes>"
      ]
     },
     "metadata": {
      "needs_background": "light"
     },
     "output_type": "display_data"
    }
   ],
   "source": [
    "plt.plot(k,scores)"
   ]
  },
  {
   "cell_type": "markdown",
   "metadata": {},
   "source": [
    "### Decision Tree"
   ]
  },
  {
   "cell_type": "markdown",
   "metadata": {},
   "source": [
    "#### Importing decision tree lib"
   ]
  },
  {
   "cell_type": "code",
   "execution_count": 29,
   "metadata": {},
   "outputs": [],
   "source": [
    "from sklearn.tree import DecisionTreeRegressor"
   ]
  },
  {
   "cell_type": "markdown",
   "metadata": {},
   "source": [
    "#### Applying Decision Tree algorthim. Traing the data and getting the score"
   ]
  },
  {
   "cell_type": "code",
   "execution_count": 30,
   "metadata": {},
   "outputs": [
    {
     "name": "stdout",
     "output_type": "stream",
     "text": [
      "0.9987410483708283\n"
     ]
    }
   ],
   "source": [
    "dtr = DecisionTreeRegressor()\n",
    "dtr.fit(X,y)\n",
    "dt_score = dtr.score(X,y)\n",
    "print(dt_score)"
   ]
  },
  {
   "cell_type": "markdown",
   "metadata": {},
   "source": [
    "### Random Forest"
   ]
  },
  {
   "cell_type": "markdown",
   "metadata": {},
   "source": [
    "#### Applying Random Forest. Traing the data and getting the score"
   ]
  },
  {
   "cell_type": "code",
   "execution_count": 31,
   "metadata": {},
   "outputs": [],
   "source": [
    "from sklearn.ensemble import RandomForestRegressor"
   ]
  },
  {
   "cell_type": "code",
   "execution_count": 32,
   "metadata": {},
   "outputs": [
    {
     "name": "stdout",
     "output_type": "stream",
     "text": [
      "0.8144963050692027\n"
     ]
    }
   ],
   "source": [
    "rfr= RandomForestRegressor(n_estimators=10)\n",
    "rfr.fit(X,y)\n",
    "rf_score = rfr.score(X,y)\n",
    "print(rf_score)"
   ]
  },
  {
   "cell_type": "code",
   "execution_count": null,
   "metadata": {},
   "outputs": [],
   "source": []
  },
  {
   "cell_type": "code",
   "execution_count": null,
   "metadata": {},
   "outputs": [],
   "source": []
  },
  {
   "cell_type": "markdown",
   "metadata": {},
   "source": [
    "# Future Time Prediction"
   ]
  },
  {
   "cell_type": "code",
   "execution_count": null,
   "metadata": {},
   "outputs": [],
   "source": []
  },
  {
   "cell_type": "code",
   "execution_count": 33,
   "metadata": {},
   "outputs": [
    {
     "data": {
      "text/html": [
       "<div>\n",
       "<style scoped>\n",
       "    .dataframe tbody tr th:only-of-type {\n",
       "        vertical-align: middle;\n",
       "    }\n",
       "\n",
       "    .dataframe tbody tr th {\n",
       "        vertical-align: top;\n",
       "    }\n",
       "\n",
       "    .dataframe thead th {\n",
       "        text-align: right;\n",
       "    }\n",
       "</style>\n",
       "<table border=\"1\" class=\"dataframe\">\n",
       "  <thead>\n",
       "    <tr style=\"text-align: right;\">\n",
       "      <th></th>\n",
       "      <th>stations</th>\n",
       "      <th>Date &amp; Period of Survey</th>\n",
       "      <th>PM10</th>\n",
       "      <th>PM2.5</th>\n",
       "      <th>SO2</th>\n",
       "      <th>NO2</th>\n",
       "      <th>AQI</th>\n",
       "    </tr>\n",
       "  </thead>\n",
       "  <tbody>\n",
       "    <tr>\n",
       "      <th>0</th>\n",
       "      <td>Anna Nagar</td>\n",
       "      <td>2019-02-01 00:00:00</td>\n",
       "      <td>106</td>\n",
       "      <td>40.0</td>\n",
       "      <td>11</td>\n",
       "      <td>18</td>\n",
       "      <td>68</td>\n",
       "    </tr>\n",
       "    <tr>\n",
       "      <th>1</th>\n",
       "      <td>Anna Nagar</td>\n",
       "      <td>2019-05-07 00:00:00</td>\n",
       "      <td>119</td>\n",
       "      <td>31.0</td>\n",
       "      <td>14</td>\n",
       "      <td>26</td>\n",
       "      <td>63</td>\n",
       "    </tr>\n",
       "    <tr>\n",
       "      <th>2</th>\n",
       "      <td>Nungambakkam</td>\n",
       "      <td>2019-04-07 00:00:00</td>\n",
       "      <td>126</td>\n",
       "      <td>35.0</td>\n",
       "      <td>13</td>\n",
       "      <td>29</td>\n",
       "      <td>70</td>\n",
       "    </tr>\n",
       "    <tr>\n",
       "      <th>3</th>\n",
       "      <td>Anna Nagar</td>\n",
       "      <td>2019-07-01 00:00:00</td>\n",
       "      <td>94</td>\n",
       "      <td>31.0</td>\n",
       "      <td>13</td>\n",
       "      <td>20</td>\n",
       "      <td>63</td>\n",
       "    </tr>\n",
       "    <tr>\n",
       "      <th>4</th>\n",
       "      <td>Nungambakkam</td>\n",
       "      <td>2019-08-01 00:00:00</td>\n",
       "      <td>72</td>\n",
       "      <td>39.0</td>\n",
       "      <td>14</td>\n",
       "      <td>22</td>\n",
       "      <td>63</td>\n",
       "    </tr>\n",
       "  </tbody>\n",
       "</table>\n",
       "</div>"
      ],
      "text/plain": [
       "       stations Date & Period of Survey  PM10  PM2.5  SO2  NO2  AQI\n",
       "0    Anna Nagar     2019-02-01 00:00:00   106   40.0   11   18   68\n",
       "1    Anna Nagar     2019-05-07 00:00:00   119   31.0   14   26   63\n",
       "2  Nungambakkam     2019-04-07 00:00:00   126   35.0   13   29   70\n",
       "3    Anna Nagar     2019-07-01 00:00:00    94   31.0   13   20   63\n",
       "4  Nungambakkam     2019-08-01 00:00:00    72   39.0   14   22   63"
      ]
     },
     "execution_count": 33,
     "metadata": {},
     "output_type": "execute_result"
    }
   ],
   "source": [
    "df = pd.read_excel('Dataset/Book1..xlsx')\n",
    "df.head()"
   ]
  },
  {
   "cell_type": "code",
   "execution_count": 34,
   "metadata": {},
   "outputs": [],
   "source": [
    "from datetime import datetime as dt\n",
    "def fix_number_format(x):\n",
    "    \n",
    "    try:\n",
    "        print(\"ok:\", dt.strftime(x, '%Y-%m-%d'))\n",
    "        return x\n",
    "    except Exception as err:\n",
    "        try:\n",
    "            return dt.strptime(x, '%d/%m/%Y')\n",
    "        except Exception as err:\n",
    "            return dt.strptime('25/06/2019', '%d/%m/%Y')\n",
    "            "
   ]
  },
  {
   "cell_type": "code",
   "execution_count": 35,
   "metadata": {},
   "outputs": [
    {
     "name": "stdout",
     "output_type": "stream",
     "text": [
      "ok: 2019-02-01\n",
      "ok: 2019-05-07\n",
      "ok: 2019-04-07\n",
      "ok: 2019-07-01\n",
      "ok: 2019-08-01\n",
      "ok: 2019-10-01\n",
      "ok: 2019-11-01\n",
      "ok: 2019-01-02\n",
      "ok: 2019-02-02\n",
      "ok: 2019-04-02\n",
      "ok: 2019-05-02\n",
      "ok: 2019-05-02\n",
      "ok: 2019-06-02\n",
      "ok: 2019-06-02\n",
      "ok: 2019-07-02\n",
      "ok: 2019-07-02\n",
      "ok: 2019-08-02\n",
      "ok: 2019-08-02\n",
      "ok: 2019-09-02\n",
      "ok: 2019-09-02\n",
      "ok: 2019-10-03\n",
      "ok: 2019-11-02\n",
      "ok: 2019-12-02\n",
      "ok: 2019-12-02\n",
      "ok: 2019-01-03\n",
      "ok: 2019-08-03\n",
      "ok: 2019-09-03\n",
      "ok: 2019-11-03\n",
      "ok: 2019-12-03\n",
      "ok: 2019-12-03\n",
      "ok: 2019-01-04\n",
      "ok: 2019-02-04\n",
      "ok: 2019-02-04\n",
      "ok: 2019-03-04\n",
      "ok: 2019-03-04\n",
      "ok: 2019-04-04\n",
      "ok: 2019-04-04\n",
      "ok: 2019-05-04\n",
      "ok: 2019-08-04\n",
      "ok: 2019-09-04\n",
      "ok: 2019-09-04\n",
      "ok: 2019-10-04\n",
      "ok: 2019-10-04\n",
      "ok: 2019-11-04\n",
      "ok: 2019-11-04\n",
      "ok: 2019-12-04\n",
      "ok: 2019-12-04\n",
      "ok: 2019-01-05\n",
      "ok: 2019-02-05\n",
      "ok: 2019-03-05\n",
      "ok: 2019-03-05\n",
      "ok: 2019-04-05\n",
      "ok: 2019-06-05\n",
      "ok: 2019-07-05\n",
      "ok: 2019-07-05\n",
      "ok: 2019-08-05\n",
      "ok: 2019-08-05\n",
      "ok: 2019-09-05\n",
      "ok: 2019-09-05\n",
      "ok: 2019-10-05\n",
      "ok: 2019-10-05\n",
      "ok: 2019-11-05\n",
      "ok: 2019-01-06\n",
      "ok: 2019-03-06\n",
      "ok: 2019-04-06\n",
      "ok: 2019-04-06\n",
      "ok: 2019-05-06\n",
      "ok: 2019-06-06\n",
      "ok: 2019-07-06\n",
      "ok: 2019-07-06\n",
      "ok: 2019-08-06\n",
      "ok: 2019-10-06\n",
      "ok: 2019-11-06\n",
      "ok: 2019-11-06\n",
      "ok: 2019-12-06\n",
      "ok: 2019-12-03\n",
      "ok: 2019-01-07\n",
      "ok: 2019-02-07\n",
      "ok: 2019-02-07\n",
      "ok: 2019-03-07\n",
      "ok: 2019-03-07\n",
      "ok: 2019-04-06\n",
      "ok: 2019-04-07\n",
      "ok: 2019-05-07\n",
      "ok: 2019-05-07\n",
      "ok: 2019-06-07\n",
      "ok: 2019-08-07\n",
      "ok: 2019-09-07\n",
      "ok: 2019-09-07\n",
      "ok: 2019-10-07\n",
      "ok: 2019-10-07\n",
      "ok: 2019-11-07\n",
      "ok: 2019-11-07\n",
      "ok: 2019-12-07\n",
      "ok: 2019-01-08\n",
      "ok: 2019-01-08\n",
      "ok: 2019-02-08\n",
      "ok: 2019-05-08\n",
      "ok: 2019-06-08\n",
      "ok: 2019-06-08\n",
      "ok: 2019-07-08\n",
      "ok: 2019-07-08\n",
      "ok: 2019-08-08\n",
      "ok: 2019-08-08\n",
      "ok: 2019-09-08\n",
      "ok: 2019-09-08\n",
      "ok: 2019-10-08\n",
      "ok: 2019-01-09\n",
      "ok: 2019-03-09\n",
      "ok: 2019-04-09\n",
      "ok: 2019-04-09\n",
      "ok: 2019-05-09\n",
      "ok: 2019-05-09\n",
      "ok: 2019-06-09\n",
      "ok: 2019-06-09\n",
      "ok: 2019-09-09\n",
      "ok: 2019-10-09\n",
      "ok: 2019-11-09\n",
      "ok: 2019-12-09\n",
      "ok: 2019-01-10\n",
      "ok: 2019-01-10\n",
      "ok: 2019-02-10\n",
      "ok: 2019-03-10\n",
      "ok: 2019-04-10\n",
      "ok: 2019-04-10\n",
      "ok: 2019-05-10\n",
      "ok: 2019-09-10\n",
      "ok: 2019-10-10\n",
      "ok: 2019-10-10\n",
      "ok: 2019-11-10\n",
      "ok: 2019-11-10\n",
      "ok: 2019-12-10\n",
      "ok: 2019-04-11\n",
      "ok: 2019-05-11\n",
      "ok: 2019-05-11\n",
      "ok: 2019-06-11\n",
      "ok: 2019-06-11\n",
      "ok: 2019-07-11\n",
      "ok: 2019-07-11\n",
      "ok: 2019-08-11\n",
      "ok: 2019-08-11\n",
      "ok: 2019-09-11\n",
      "ok: 2019-11-11\n",
      "ok: 2019-12-11\n",
      "ok: 2019-12-11\n"
     ]
    }
   ],
   "source": [
    "df['Date & Period of Survey'] = df['Date & Period of Survey'].apply(lambda x : fix_number_format(x))"
   ]
  },
  {
   "cell_type": "code",
   "execution_count": 36,
   "metadata": {},
   "outputs": [],
   "source": [
    "df['Date & Period of Survey'] = pd.to_datetime(df['Date & Period of Survey'], format='%Y-%m-%d')"
   ]
  },
  {
   "cell_type": "code",
   "execution_count": 37,
   "metadata": {},
   "outputs": [
    {
     "name": "stdout",
     "output_type": "stream",
     "text": [
      "<class 'pandas.core.frame.DataFrame'>\n",
      "RangeIndex: 366 entries, 0 to 365\n",
      "Data columns (total 7 columns):\n",
      "stations                   366 non-null object\n",
      "Date & Period of Survey    366 non-null datetime64[ns]\n",
      "PM10                       366 non-null int64\n",
      "PM2.5                      312 non-null float64\n",
      "SO2                        366 non-null int64\n",
      "NO2                        366 non-null int64\n",
      "AQI                        366 non-null int64\n",
      "dtypes: datetime64[ns](1), float64(1), int64(4), object(1)\n",
      "memory usage: 20.1+ KB\n"
     ]
    }
   ],
   "source": [
    "df.info()"
   ]
  },
  {
   "cell_type": "code",
   "execution_count": 38,
   "metadata": {},
   "outputs": [],
   "source": [
    "df.sort_values(by='Date & Period of Survey')\n",
    "df = df.set_index('Date & Period of Survey')\n"
   ]
  },
  {
   "cell_type": "code",
   "execution_count": 39,
   "metadata": {},
   "outputs": [
    {
     "data": {
      "image/png": "[encoded data removed]",
      "text/plain": [
       "<Figure size 432x288 with 1 Axes>"
      ]
     },
     "metadata": {
      "needs_background": "light"
     },
     "output_type": "display_data"
    }
   ],
   "source": [
    "plt.plot(df['AQI'].index, df['AQI'])\n",
    "plt.title('Time')\n",
    "plt.ylabel('AQI');\n",
    "plt.show()"
   ]
  },
  {
   "cell_type": "code",
   "execution_count": 40,
   "metadata": {},
   "outputs": [],
   "source": [
    "from statsmodels.tsa.arima_model import ARMA"
   ]
  },
  {
   "cell_type": "code",
   "execution_count": 41,
   "metadata": {},
   "outputs": [
    {
     "name": "stderr",
     "output_type": "stream",
     "text": [
      "/home/nandagopal/PycharmProjects/data-science-class/venv/lib/python3.6/site-packages/statsmodels/tsa/base/tsa_model.py:219: ValueWarning: A date index has been provided, but it has no associated frequency information and so will be ignored when e.g. forecasting.\n",
      "  ' ignored when e.g. forecasting.', ValueWarning)\n"
     ]
    }
   ],
   "source": [
    "model = ARMA(df.AQI, order=(0, 1))"
   ]
  },
  {
   "cell_type": "code",
   "execution_count": 42,
   "metadata": {},
   "outputs": [],
   "source": [
    "model_fit = model.fit(disp=False)"
   ]
  },
  {
   "cell_type": "code",
   "execution_count": 43,
   "metadata": {},
   "outputs": [
    {
     "name": "stderr",
     "output_type": "stream",
     "text": [
      "/home/nandagopal/PycharmProjects/data-science-class/venv/lib/python3.6/site-packages/statsmodels/tsa/base/tsa_model.py:576: ValueWarning: No supported index is available. Prediction results will be given with an integer index beginning at `start`.\n",
      "  ValueWarning)\n"
     ]
    }
   ],
   "source": [
    "yhat = model_fit.predict(len(df.AQI), len(df.AQI) +10 , dynamic=True)"
   ]
  },
  {
   "cell_type": "code",
   "execution_count": 44,
   "metadata": {},
   "outputs": [
    {
     "data": {
      "text/plain": [
       "366    106.394843\n",
       "367     91.483740\n",
       "368     91.483740\n",
       "369     91.483740\n",
       "370     91.483740\n",
       "371     91.483740\n",
       "372     91.483740\n",
       "373     91.483740\n",
       "374     91.483740\n",
       "375     91.483740\n",
       "376     91.483740\n",
       "dtype: float64"
      ]
     },
     "execution_count": 44,
     "metadata": {},
     "output_type": "execute_result"
    }
   ],
   "source": [
    "yhat"
   ]
  },
  {
   "cell_type": "code",
   "execution_count": null,
   "metadata": {},
   "outputs": [],
   "source": []
  }
 ],
 "metadata": {
  "kernelspec": {
   "display_name": "Python 3",
   "language": "python",
   "name": "python3"
  },
  "language_info": {
   "codemirror_mode": {
    "name": "ipython",
    "version": 3
   },
   "file_extension": ".py",
   "mimetype": "text/x-python",
   "name": "python",
   "nbconvert_exporter": "python",
   "pygments_lexer": "ipython3",
   "version": "3.6.8"
  }
 },
 "nbformat": 4,
 "nbformat_minor": 4
}
