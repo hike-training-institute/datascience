{
 "cells": [
  {
   "cell_type": "code",
   "execution_count": 1,
   "metadata": {},
   "outputs": [],
   "source": [
    "%matplotlib inline\n",
    "import pandas as pd \n",
    "import numpy as np \n",
    "from matplotlib import pyplot as plt "
   ]
  },
  {
   "cell_type": "markdown",
   "metadata": {},
   "source": [
    "# Data Sources"
   ]
  },
  {
   "cell_type": "code",
   "execution_count": 2,
   "metadata": {},
   "outputs": [],
   "source": [
    "gas_ratio  = 'Book3.xlsx'\n",
    "aqi_level = 'Book1..xlsx'"
   ]
  },
  {
   "cell_type": "markdown",
   "metadata": {},
   "source": [
    "# Pandas Dataframes\n",
    "\n",
    "- AQI data is available for Chennai Location Only  hence ignoring other location for now"
   ]
  },
  {
   "cell_type": "code",
   "execution_count": 3,
   "metadata": {},
   "outputs": [],
   "source": [
    "gas_ratio_df = pd.read_excel(gas_ratio, sheet_name='chennai')\n",
    "aqi_level_df = pd.read_excel(aqi_level)"
   ]
  },
  {
   "cell_type": "markdown",
   "metadata": {},
   "source": [
    "# Summary of Data"
   ]
  },
  {
   "cell_type": "code",
   "execution_count": 4,
   "metadata": {},
   "outputs": [
    {
     "name": "stdout",
     "output_type": "stream",
     "text": [
      "<class 'pandas.core.frame.DataFrame'>\n",
      "RangeIndex: 575 entries, 0 to 574\n",
      "Data columns (total 7 columns):\n",
      "S.No                575 non-null int64\n",
      "CITY                575 non-null object\n",
      "Type                575 non-null object\n",
      "STATION             575 non-null object\n",
      "Date of Sampling    575 non-null object\n",
      "AQI                 575 non-null int64\n",
      "Remarks             575 non-null object\n",
      "dtypes: int64(2), object(5)\n",
      "memory usage: 31.6+ KB\n"
     ]
    }
   ],
   "source": [
    "gas_ratio_df.info()"
   ]
  },
  {
   "cell_type": "markdown",
   "metadata": {},
   "source": [
    "# Description "
   ]
  },
  {
   "cell_type": "code",
   "execution_count": 5,
   "metadata": {},
   "outputs": [
    {
     "data": {
      "text/html": [
       "<div>\n",
       "<style scoped>\n",
       "    .dataframe tbody tr th:only-of-type {\n",
       "        vertical-align: middle;\n",
       "    }\n",
       "\n",
       "    .dataframe tbody tr th {\n",
       "        vertical-align: top;\n",
       "    }\n",
       "\n",
       "    .dataframe thead th {\n",
       "        text-align: right;\n",
       "    }\n",
       "</style>\n",
       "<table border=\"1\" class=\"dataframe\">\n",
       "  <thead>\n",
       "    <tr style=\"text-align: right;\">\n",
       "      <th></th>\n",
       "      <th>S.No</th>\n",
       "      <th>AQI</th>\n",
       "    </tr>\n",
       "  </thead>\n",
       "  <tbody>\n",
       "    <tr>\n",
       "      <td>count</td>\n",
       "      <td>575.000000</td>\n",
       "      <td>575.000000</td>\n",
       "    </tr>\n",
       "    <tr>\n",
       "      <td>mean</td>\n",
       "      <td>289.293913</td>\n",
       "      <td>94.666087</td>\n",
       "    </tr>\n",
       "    <tr>\n",
       "      <td>std</td>\n",
       "      <td>166.845321</td>\n",
       "      <td>31.877703</td>\n",
       "    </tr>\n",
       "    <tr>\n",
       "      <td>min</td>\n",
       "      <td>1.000000</td>\n",
       "      <td>23.000000</td>\n",
       "    </tr>\n",
       "    <tr>\n",
       "      <td>25%</td>\n",
       "      <td>145.500000</td>\n",
       "      <td>71.000000</td>\n",
       "    </tr>\n",
       "    <tr>\n",
       "      <td>50%</td>\n",
       "      <td>289.000000</td>\n",
       "      <td>96.000000</td>\n",
       "    </tr>\n",
       "    <tr>\n",
       "      <td>75%</td>\n",
       "      <td>433.500000</td>\n",
       "      <td>113.000000</td>\n",
       "    </tr>\n",
       "    <tr>\n",
       "      <td>max</td>\n",
       "      <td>577.000000</td>\n",
       "      <td>292.000000</td>\n",
       "    </tr>\n",
       "  </tbody>\n",
       "</table>\n",
       "</div>"
      ],
      "text/plain": [
       "             S.No         AQI\n",
       "count  575.000000  575.000000\n",
       "mean   289.293913   94.666087\n",
       "std    166.845321   31.877703\n",
       "min      1.000000   23.000000\n",
       "25%    145.500000   71.000000\n",
       "50%    289.000000   96.000000\n",
       "75%    433.500000  113.000000\n",
       "max    577.000000  292.000000"
      ]
     },
     "execution_count": 5,
     "metadata": {},
     "output_type": "execute_result"
    }
   ],
   "source": [
    "gas_ratio_df.describe()"
   ]
  },
  {
   "cell_type": "markdown",
   "metadata": {},
   "source": [
    "# First Look "
   ]
  },
  {
   "cell_type": "code",
   "execution_count": 6,
   "metadata": {},
   "outputs": [
    {
     "data": {
      "text/html": [
       "<div>\n",
       "<style scoped>\n",
       "    .dataframe tbody tr th:only-of-type {\n",
       "        vertical-align: middle;\n",
       "    }\n",
       "\n",
       "    .dataframe tbody tr th {\n",
       "        vertical-align: top;\n",
       "    }\n",
       "\n",
       "    .dataframe thead th {\n",
       "        text-align: right;\n",
       "    }\n",
       "</style>\n",
       "<table border=\"1\" class=\"dataframe\">\n",
       "  <thead>\n",
       "    <tr style=\"text-align: right;\">\n",
       "      <th></th>\n",
       "      <th>S.No</th>\n",
       "      <th>CITY</th>\n",
       "      <th>Type</th>\n",
       "      <th>STATION</th>\n",
       "      <th>Date of Sampling</th>\n",
       "      <th>AQI</th>\n",
       "      <th>Remarks</th>\n",
       "    </tr>\n",
       "  </thead>\n",
       "  <tbody>\n",
       "    <tr>\n",
       "      <td>0</td>\n",
       "      <td>1</td>\n",
       "      <td>CHENNAI</td>\n",
       "      <td>Residential</td>\n",
       "      <td>Anna Nagar - 765</td>\n",
       "      <td>05.06.18</td>\n",
       "      <td>68</td>\n",
       "      <td>Satisfactory</td>\n",
       "    </tr>\n",
       "    <tr>\n",
       "      <td>1</td>\n",
       "      <td>2</td>\n",
       "      <td>CHENNAI</td>\n",
       "      <td>Residential</td>\n",
       "      <td>Anna Nagar - 765</td>\n",
       "      <td>07.06.18</td>\n",
       "      <td>63</td>\n",
       "      <td>Satisfactory</td>\n",
       "    </tr>\n",
       "    <tr>\n",
       "      <td>2</td>\n",
       "      <td>3</td>\n",
       "      <td>CHENNAI</td>\n",
       "      <td>Residential</td>\n",
       "      <td>Anna Nagar - 765</td>\n",
       "      <td>12.06.18</td>\n",
       "      <td>70</td>\n",
       "      <td>Satisfactory</td>\n",
       "    </tr>\n",
       "    <tr>\n",
       "      <td>3</td>\n",
       "      <td>4</td>\n",
       "      <td>CHENNAI</td>\n",
       "      <td>Residential</td>\n",
       "      <td>Anna Nagar - 765</td>\n",
       "      <td>14.06.18</td>\n",
       "      <td>63</td>\n",
       "      <td>Satisfactory</td>\n",
       "    </tr>\n",
       "    <tr>\n",
       "      <td>4</td>\n",
       "      <td>5</td>\n",
       "      <td>CHENNAI</td>\n",
       "      <td>Residential</td>\n",
       "      <td>Anna Nagar - 765</td>\n",
       "      <td>19.06.18</td>\n",
       "      <td>63</td>\n",
       "      <td>Satisfactory</td>\n",
       "    </tr>\n",
       "  </tbody>\n",
       "</table>\n",
       "</div>"
      ],
      "text/plain": [
       "   S.No     CITY         Type           STATION Date of Sampling  AQI  \\\n",
       "0     1  CHENNAI  Residential  Anna Nagar - 765         05.06.18   68   \n",
       "1     2  CHENNAI  Residential  Anna Nagar - 765         07.06.18   63   \n",
       "2     3  CHENNAI  Residential  Anna Nagar - 765         12.06.18   70   \n",
       "3     4  CHENNAI  Residential  Anna Nagar - 765         14.06.18   63   \n",
       "4     5  CHENNAI  Residential  Anna Nagar - 765         19.06.18   63   \n",
       "\n",
       "        Remarks  \n",
       "0  Satisfactory  \n",
       "1  Satisfactory  \n",
       "2  Satisfactory  \n",
       "3  Satisfactory  \n",
       "4  Satisfactory  "
      ]
     },
     "execution_count": 6,
     "metadata": {},
     "output_type": "execute_result"
    }
   ],
   "source": [
    "gas_ratio_df.head()"
   ]
  },
  {
   "cell_type": "code",
   "execution_count": 7,
   "metadata": {},
   "outputs": [
    {
     "data": {
      "text/html": [
       "<div>\n",
       "<style scoped>\n",
       "    .dataframe tbody tr th:only-of-type {\n",
       "        vertical-align: middle;\n",
       "    }\n",
       "\n",
       "    .dataframe tbody tr th {\n",
       "        vertical-align: top;\n",
       "    }\n",
       "\n",
       "    .dataframe thead th {\n",
       "        text-align: right;\n",
       "    }\n",
       "</style>\n",
       "<table border=\"1\" class=\"dataframe\">\n",
       "  <thead>\n",
       "    <tr style=\"text-align: right;\">\n",
       "      <th></th>\n",
       "      <th>stations</th>\n",
       "      <th>Date &amp; Period of Survey</th>\n",
       "      <th>PM10</th>\n",
       "      <th>PM2.5</th>\n",
       "      <th>SO2</th>\n",
       "      <th>NO2</th>\n",
       "    </tr>\n",
       "  </thead>\n",
       "  <tbody>\n",
       "    <tr>\n",
       "      <td>0</td>\n",
       "      <td>Anna Nagar</td>\n",
       "      <td>2019-02-01 00:00:00</td>\n",
       "      <td>106</td>\n",
       "      <td>40.0</td>\n",
       "      <td>11</td>\n",
       "      <td>18</td>\n",
       "    </tr>\n",
       "    <tr>\n",
       "      <td>1</td>\n",
       "      <td>Anna Nagar</td>\n",
       "      <td>2019-05-07 00:00:00</td>\n",
       "      <td>119</td>\n",
       "      <td>31.0</td>\n",
       "      <td>14</td>\n",
       "      <td>26</td>\n",
       "    </tr>\n",
       "    <tr>\n",
       "      <td>2</td>\n",
       "      <td>Nungambakkam</td>\n",
       "      <td>2019-04-07 00:00:00</td>\n",
       "      <td>126</td>\n",
       "      <td>35.0</td>\n",
       "      <td>13</td>\n",
       "      <td>29</td>\n",
       "    </tr>\n",
       "    <tr>\n",
       "      <td>3</td>\n",
       "      <td>Anna Nagar</td>\n",
       "      <td>2019-07-01 00:00:00</td>\n",
       "      <td>94</td>\n",
       "      <td>31.0</td>\n",
       "      <td>13</td>\n",
       "      <td>20</td>\n",
       "    </tr>\n",
       "    <tr>\n",
       "      <td>4</td>\n",
       "      <td>Nungambakkam</td>\n",
       "      <td>2019-08-01 00:00:00</td>\n",
       "      <td>72</td>\n",
       "      <td>39.0</td>\n",
       "      <td>14</td>\n",
       "      <td>22</td>\n",
       "    </tr>\n",
       "  </tbody>\n",
       "</table>\n",
       "</div>"
      ],
      "text/plain": [
       "       stations Date & Period of Survey  PM10  PM2.5  SO2  NO2\n",
       "0    Anna Nagar     2019-02-01 00:00:00   106   40.0   11   18\n",
       "1    Anna Nagar     2019-05-07 00:00:00   119   31.0   14   26\n",
       "2  Nungambakkam     2019-04-07 00:00:00   126   35.0   13   29\n",
       "3    Anna Nagar     2019-07-01 00:00:00    94   31.0   13   20\n",
       "4  Nungambakkam     2019-08-01 00:00:00    72   39.0   14   22"
      ]
     },
     "execution_count": 7,
     "metadata": {},
     "output_type": "execute_result"
    }
   ],
   "source": [
    "aqi_level_df.head()"
   ]
  },
  {
   "cell_type": "markdown",
   "metadata": {},
   "source": [
    "# Converting AQI Column into int"
   ]
  },
  {
   "cell_type": "code",
   "execution_count": 8,
   "metadata": {},
   "outputs": [],
   "source": [
    "gas_ratio_df = gas_ratio_df.astype({\"AQI\": int}) "
   ]
  },
  {
   "cell_type": "code",
   "execution_count": 9,
   "metadata": {},
   "outputs": [
    {
     "name": "stdout",
     "output_type": "stream",
     "text": [
      "<class 'pandas.core.frame.DataFrame'>\n",
      "RangeIndex: 575 entries, 0 to 574\n",
      "Data columns (total 7 columns):\n",
      "S.No                575 non-null int64\n",
      "CITY                575 non-null object\n",
      "Type                575 non-null object\n",
      "STATION             575 non-null object\n",
      "Date of Sampling    575 non-null object\n",
      "AQI                 575 non-null int64\n",
      "Remarks             575 non-null object\n",
      "dtypes: int64(2), object(5)\n",
      "memory usage: 31.6+ KB\n"
     ]
    }
   ],
   "source": [
    "gas_ratio_df.info()"
   ]
  },
  {
   "cell_type": "code",
   "execution_count": 10,
   "metadata": {},
   "outputs": [
    {
     "data": {
      "text/html": [
       "<div>\n",
       "<style scoped>\n",
       "    .dataframe tbody tr th:only-of-type {\n",
       "        vertical-align: middle;\n",
       "    }\n",
       "\n",
       "    .dataframe tbody tr th {\n",
       "        vertical-align: top;\n",
       "    }\n",
       "\n",
       "    .dataframe thead th {\n",
       "        text-align: right;\n",
       "    }\n",
       "</style>\n",
       "<table border=\"1\" class=\"dataframe\">\n",
       "  <thead>\n",
       "    <tr style=\"text-align: right;\">\n",
       "      <th></th>\n",
       "      <th>S.No</th>\n",
       "      <th>AQI</th>\n",
       "    </tr>\n",
       "  </thead>\n",
       "  <tbody>\n",
       "    <tr>\n",
       "      <td>count</td>\n",
       "      <td>575.000000</td>\n",
       "      <td>575.000000</td>\n",
       "    </tr>\n",
       "    <tr>\n",
       "      <td>mean</td>\n",
       "      <td>289.293913</td>\n",
       "      <td>94.666087</td>\n",
       "    </tr>\n",
       "    <tr>\n",
       "      <td>std</td>\n",
       "      <td>166.845321</td>\n",
       "      <td>31.877703</td>\n",
       "    </tr>\n",
       "    <tr>\n",
       "      <td>min</td>\n",
       "      <td>1.000000</td>\n",
       "      <td>23.000000</td>\n",
       "    </tr>\n",
       "    <tr>\n",
       "      <td>25%</td>\n",
       "      <td>145.500000</td>\n",
       "      <td>71.000000</td>\n",
       "    </tr>\n",
       "    <tr>\n",
       "      <td>50%</td>\n",
       "      <td>289.000000</td>\n",
       "      <td>96.000000</td>\n",
       "    </tr>\n",
       "    <tr>\n",
       "      <td>75%</td>\n",
       "      <td>433.500000</td>\n",
       "      <td>113.000000</td>\n",
       "    </tr>\n",
       "    <tr>\n",
       "      <td>max</td>\n",
       "      <td>577.000000</td>\n",
       "      <td>292.000000</td>\n",
       "    </tr>\n",
       "  </tbody>\n",
       "</table>\n",
       "</div>"
      ],
      "text/plain": [
       "             S.No         AQI\n",
       "count  575.000000  575.000000\n",
       "mean   289.293913   94.666087\n",
       "std    166.845321   31.877703\n",
       "min      1.000000   23.000000\n",
       "25%    145.500000   71.000000\n",
       "50%    289.000000   96.000000\n",
       "75%    433.500000  113.000000\n",
       "max    577.000000  292.000000"
      ]
     },
     "execution_count": 10,
     "metadata": {},
     "output_type": "execute_result"
    }
   ],
   "source": [
    "gas_ratio_df.describe()"
   ]
  },
  {
   "cell_type": "markdown",
   "metadata": {},
   "source": [
    "# Dropping 'S.No' Column as it holds no significance in data"
   ]
  },
  {
   "cell_type": "code",
   "execution_count": 11,
   "metadata": {},
   "outputs": [],
   "source": [
    "gas_ratio_df.drop('S.No', axis=1, inplace=True)"
   ]
  },
  {
   "cell_type": "code",
   "execution_count": 12,
   "metadata": {},
   "outputs": [
    {
     "data": {
      "text/html": [
       "<div>\n",
       "<style scoped>\n",
       "    .dataframe tbody tr th:only-of-type {\n",
       "        vertical-align: middle;\n",
       "    }\n",
       "\n",
       "    .dataframe tbody tr th {\n",
       "        vertical-align: top;\n",
       "    }\n",
       "\n",
       "    .dataframe thead th {\n",
       "        text-align: right;\n",
       "    }\n",
       "</style>\n",
       "<table border=\"1\" class=\"dataframe\">\n",
       "  <thead>\n",
       "    <tr style=\"text-align: right;\">\n",
       "      <th></th>\n",
       "      <th>CITY</th>\n",
       "      <th>Type</th>\n",
       "      <th>STATION</th>\n",
       "      <th>Date of Sampling</th>\n",
       "      <th>AQI</th>\n",
       "      <th>Remarks</th>\n",
       "    </tr>\n",
       "  </thead>\n",
       "  <tbody>\n",
       "    <tr>\n",
       "      <td>0</td>\n",
       "      <td>CHENNAI</td>\n",
       "      <td>Residential</td>\n",
       "      <td>Anna Nagar - 765</td>\n",
       "      <td>05.06.18</td>\n",
       "      <td>68</td>\n",
       "      <td>Satisfactory</td>\n",
       "    </tr>\n",
       "    <tr>\n",
       "      <td>1</td>\n",
       "      <td>CHENNAI</td>\n",
       "      <td>Residential</td>\n",
       "      <td>Anna Nagar - 765</td>\n",
       "      <td>07.06.18</td>\n",
       "      <td>63</td>\n",
       "      <td>Satisfactory</td>\n",
       "    </tr>\n",
       "    <tr>\n",
       "      <td>2</td>\n",
       "      <td>CHENNAI</td>\n",
       "      <td>Residential</td>\n",
       "      <td>Anna Nagar - 765</td>\n",
       "      <td>12.06.18</td>\n",
       "      <td>70</td>\n",
       "      <td>Satisfactory</td>\n",
       "    </tr>\n",
       "    <tr>\n",
       "      <td>3</td>\n",
       "      <td>CHENNAI</td>\n",
       "      <td>Residential</td>\n",
       "      <td>Anna Nagar - 765</td>\n",
       "      <td>14.06.18</td>\n",
       "      <td>63</td>\n",
       "      <td>Satisfactory</td>\n",
       "    </tr>\n",
       "    <tr>\n",
       "      <td>4</td>\n",
       "      <td>CHENNAI</td>\n",
       "      <td>Residential</td>\n",
       "      <td>Anna Nagar - 765</td>\n",
       "      <td>19.06.18</td>\n",
       "      <td>63</td>\n",
       "      <td>Satisfactory</td>\n",
       "    </tr>\n",
       "  </tbody>\n",
       "</table>\n",
       "</div>"
      ],
      "text/plain": [
       "      CITY         Type           STATION Date of Sampling  AQI       Remarks\n",
       "0  CHENNAI  Residential  Anna Nagar - 765         05.06.18   68  Satisfactory\n",
       "1  CHENNAI  Residential  Anna Nagar - 765         07.06.18   63  Satisfactory\n",
       "2  CHENNAI  Residential  Anna Nagar - 765         12.06.18   70  Satisfactory\n",
       "3  CHENNAI  Residential  Anna Nagar - 765         14.06.18   63  Satisfactory\n",
       "4  CHENNAI  Residential  Anna Nagar - 765         19.06.18   63  Satisfactory"
      ]
     },
     "execution_count": 12,
     "metadata": {},
     "output_type": "execute_result"
    }
   ],
   "source": [
    "gas_ratio_df.head()"
   ]
  },
  {
   "cell_type": "markdown",
   "metadata": {},
   "source": [
    "#### Columns Type , Station, Remarks are Text Data, Lets find their distributions"
   ]
  },
  {
   "cell_type": "code",
   "execution_count": 13,
   "metadata": {},
   "outputs": [
    {
     "data": {
      "text/html": [
       "<div>\n",
       "<style scoped>\n",
       "    .dataframe tbody tr th:only-of-type {\n",
       "        vertical-align: middle;\n",
       "    }\n",
       "\n",
       "    .dataframe tbody tr th {\n",
       "        vertical-align: top;\n",
       "    }\n",
       "\n",
       "    .dataframe thead th {\n",
       "        text-align: right;\n",
       "    }\n",
       "</style>\n",
       "<table border=\"1\" class=\"dataframe\">\n",
       "  <thead>\n",
       "    <tr style=\"text-align: right;\">\n",
       "      <th></th>\n",
       "      <th>Type</th>\n",
       "      <th>CITY</th>\n",
       "      <th>STATION</th>\n",
       "      <th>Date of Sampling</th>\n",
       "      <th>AQI</th>\n",
       "      <th>Remarks</th>\n",
       "    </tr>\n",
       "  </thead>\n",
       "  <tbody>\n",
       "    <tr>\n",
       "      <td>0</td>\n",
       "      <td>Mixed</td>\n",
       "      <td>234</td>\n",
       "      <td>234</td>\n",
       "      <td>234</td>\n",
       "      <td>234</td>\n",
       "      <td>234</td>\n",
       "    </tr>\n",
       "    <tr>\n",
       "      <td>1</td>\n",
       "      <td>Residential</td>\n",
       "      <td>222</td>\n",
       "      <td>222</td>\n",
       "      <td>222</td>\n",
       "      <td>222</td>\n",
       "      <td>222</td>\n",
       "    </tr>\n",
       "    <tr>\n",
       "      <td>2</td>\n",
       "      <td>Traffic inter - section</td>\n",
       "      <td>119</td>\n",
       "      <td>119</td>\n",
       "      <td>119</td>\n",
       "      <td>119</td>\n",
       "      <td>119</td>\n",
       "    </tr>\n",
       "  </tbody>\n",
       "</table>\n",
       "</div>"
      ],
      "text/plain": [
       "                      Type  CITY  STATION  Date of Sampling  AQI  Remarks\n",
       "0                    Mixed   234      234               234  234      234\n",
       "1              Residential   222      222               222  222      222\n",
       "2  Traffic inter - section   119      119               119  119      119"
      ]
     },
     "execution_count": 13,
     "metadata": {},
     "output_type": "execute_result"
    }
   ],
   "source": [
    "gas_ratio_df.groupby('Type').count().reset_index()"
   ]
  },
  {
   "cell_type": "code",
   "execution_count": 14,
   "metadata": {},
   "outputs": [
    {
     "data": {
      "text/plain": [
       "<matplotlib.axes._subplots.AxesSubplot at 0x7f487668f208>"
      ]
     },
     "execution_count": 14,
     "metadata": {},
     "output_type": "execute_result"
    },
    {
     "data": {
      "image/png": "[encoded data removed]",
      "text/plain": [
       "<Figure size 432x288 with 1 Axes>"
      ]
     },
     "metadata": {
      "needs_background": "light"
     },
     "output_type": "display_data"
    }
   ],
   "source": [
    "gas_ratio_df.groupby('Type').count().reset_index().plot('Type', 'CITY', kind='bar')"
   ]
  },
  {
   "cell_type": "code",
   "execution_count": 15,
   "metadata": {},
   "outputs": [
    {
     "data": {
      "text/html": [
       "<div>\n",
       "<style scoped>\n",
       "    .dataframe tbody tr th:only-of-type {\n",
       "        vertical-align: middle;\n",
       "    }\n",
       "\n",
       "    .dataframe tbody tr th {\n",
       "        vertical-align: top;\n",
       "    }\n",
       "\n",
       "    .dataframe thead th {\n",
       "        text-align: right;\n",
       "    }\n",
       "</style>\n",
       "<table border=\"1\" class=\"dataframe\">\n",
       "  <thead>\n",
       "    <tr style=\"text-align: right;\">\n",
       "      <th></th>\n",
       "      <th>STATION</th>\n",
       "      <th>CITY</th>\n",
       "      <th>Type</th>\n",
       "      <th>Date of Sampling</th>\n",
       "      <th>AQI</th>\n",
       "      <th>Remarks</th>\n",
       "    </tr>\n",
       "  </thead>\n",
       "  <tbody>\n",
       "    <tr>\n",
       "      <td>0</td>\n",
       "      <td>Adyar - 764</td>\n",
       "      <td>115</td>\n",
       "      <td>115</td>\n",
       "      <td>115</td>\n",
       "      <td>115</td>\n",
       "      <td>115</td>\n",
       "    </tr>\n",
       "    <tr>\n",
       "      <td>1</td>\n",
       "      <td>Anna Nagar - 765</td>\n",
       "      <td>107</td>\n",
       "      <td>107</td>\n",
       "      <td>107</td>\n",
       "      <td>107</td>\n",
       "      <td>107</td>\n",
       "    </tr>\n",
       "    <tr>\n",
       "      <td>2</td>\n",
       "      <td>Kilpauk - 767</td>\n",
       "      <td>116</td>\n",
       "      <td>116</td>\n",
       "      <td>116</td>\n",
       "      <td>116</td>\n",
       "      <td>116</td>\n",
       "    </tr>\n",
       "    <tr>\n",
       "      <td>3</td>\n",
       "      <td>Nungambakkam - 895</td>\n",
       "      <td>119</td>\n",
       "      <td>119</td>\n",
       "      <td>119</td>\n",
       "      <td>119</td>\n",
       "      <td>119</td>\n",
       "    </tr>\n",
       "    <tr>\n",
       "      <td>4</td>\n",
       "      <td>T.Nagar 766</td>\n",
       "      <td>118</td>\n",
       "      <td>118</td>\n",
       "      <td>118</td>\n",
       "      <td>118</td>\n",
       "      <td>118</td>\n",
       "    </tr>\n",
       "  </tbody>\n",
       "</table>\n",
       "</div>"
      ],
      "text/plain": [
       "              STATION  CITY  Type  Date of Sampling  AQI  Remarks\n",
       "0         Adyar - 764   115   115               115  115      115\n",
       "1    Anna Nagar - 765   107   107               107  107      107\n",
       "2       Kilpauk - 767   116   116               116  116      116\n",
       "3  Nungambakkam - 895   119   119               119  119      119\n",
       "4         T.Nagar 766   118   118               118  118      118"
      ]
     },
     "execution_count": 15,
     "metadata": {},
     "output_type": "execute_result"
    }
   ],
   "source": [
    "gas_ratio_df.groupby('STATION').count().reset_index()"
   ]
  },
  {
   "cell_type": "code",
   "execution_count": 16,
   "metadata": {},
   "outputs": [
    {
     "data": {
      "text/plain": [
       "<matplotlib.axes._subplots.AxesSubplot at 0x7f487667a9b0>"
      ]
     },
     "execution_count": 16,
     "metadata": {},
     "output_type": "execute_result"
    },
    {
     "data": {
      "image/png": "[encoded data removed]",
      "text/plain": [
       "<Figure size 432x288 with 1 Axes>"
      ]
     },
     "metadata": {
      "needs_background": "light"
     },
     "output_type": "display_data"
    }
   ],
   "source": [
    "gas_ratio_df.groupby('STATION').count().reset_index().plot('STATION', 'CITY', kind='bar')"
   ]
  },
  {
   "cell_type": "code",
   "execution_count": 17,
   "metadata": {},
   "outputs": [
    {
     "data": {
      "text/html": [
       "<div>\n",
       "<style scoped>\n",
       "    .dataframe tbody tr th:only-of-type {\n",
       "        vertical-align: middle;\n",
       "    }\n",
       "\n",
       "    .dataframe tbody tr th {\n",
       "        vertical-align: top;\n",
       "    }\n",
       "\n",
       "    .dataframe thead th {\n",
       "        text-align: right;\n",
       "    }\n",
       "</style>\n",
       "<table border=\"1\" class=\"dataframe\">\n",
       "  <thead>\n",
       "    <tr style=\"text-align: right;\">\n",
       "      <th></th>\n",
       "      <th>Remarks</th>\n",
       "      <th>CITY</th>\n",
       "      <th>Type</th>\n",
       "      <th>STATION</th>\n",
       "      <th>Date of Sampling</th>\n",
       "      <th>AQI</th>\n",
       "    </tr>\n",
       "  </thead>\n",
       "  <tbody>\n",
       "    <tr>\n",
       "      <td>0</td>\n",
       "      <td>Good</td>\n",
       "      <td>28</td>\n",
       "      <td>28</td>\n",
       "      <td>28</td>\n",
       "      <td>28</td>\n",
       "      <td>28</td>\n",
       "    </tr>\n",
       "    <tr>\n",
       "      <td>1</td>\n",
       "      <td>Moderate</td>\n",
       "      <td>238</td>\n",
       "      <td>238</td>\n",
       "      <td>238</td>\n",
       "      <td>238</td>\n",
       "      <td>238</td>\n",
       "    </tr>\n",
       "    <tr>\n",
       "      <td>2</td>\n",
       "      <td>Poor</td>\n",
       "      <td>4</td>\n",
       "      <td>4</td>\n",
       "      <td>4</td>\n",
       "      <td>4</td>\n",
       "      <td>4</td>\n",
       "    </tr>\n",
       "    <tr>\n",
       "      <td>3</td>\n",
       "      <td>Satisfactory</td>\n",
       "      <td>302</td>\n",
       "      <td>302</td>\n",
       "      <td>302</td>\n",
       "      <td>302</td>\n",
       "      <td>302</td>\n",
       "    </tr>\n",
       "    <tr>\n",
       "      <td>4</td>\n",
       "      <td>good</td>\n",
       "      <td>2</td>\n",
       "      <td>2</td>\n",
       "      <td>2</td>\n",
       "      <td>2</td>\n",
       "      <td>2</td>\n",
       "    </tr>\n",
       "    <tr>\n",
       "      <td>5</td>\n",
       "      <td>moderate</td>\n",
       "      <td>1</td>\n",
       "      <td>1</td>\n",
       "      <td>1</td>\n",
       "      <td>1</td>\n",
       "      <td>1</td>\n",
       "    </tr>\n",
       "  </tbody>\n",
       "</table>\n",
       "</div>"
      ],
      "text/plain": [
       "        Remarks  CITY  Type  STATION  Date of Sampling  AQI\n",
       "0          Good    28    28       28                28   28\n",
       "1      Moderate   238   238      238               238  238\n",
       "2          Poor     4     4        4                 4    4\n",
       "3  Satisfactory   302   302      302               302  302\n",
       "4          good     2     2        2                 2    2\n",
       "5      moderate     1     1        1                 1    1"
      ]
     },
     "execution_count": 17,
     "metadata": {},
     "output_type": "execute_result"
    }
   ],
   "source": [
    "gas_ratio_df.groupby('Remarks').count().reset_index()"
   ]
  },
  {
   "cell_type": "code",
   "execution_count": 18,
   "metadata": {},
   "outputs": [
    {
     "data": {
      "text/plain": [
       "<matplotlib.axes._subplots.AxesSubplot at 0x7f4873f5a208>"
      ]
     },
     "execution_count": 18,
     "metadata": {},
     "output_type": "execute_result"
    },
    {
     "data": {
      "image/png": "[encoded data removed]",
      "text/plain": [
       "<Figure size 432x288 with 1 Axes>"
      ]
     },
     "metadata": {
      "needs_background": "light"
     },
     "output_type": "display_data"
    }
   ],
   "source": [
    "gas_ratio_df.groupby('Remarks').count().reset_index().plot('Remarks', 'CITY', kind='bar')"
   ]
  },
  {
   "cell_type": "markdown",
   "metadata": {},
   "source": [
    "# Time Series Analysis of AQI \n",
    "### Resetting Date of Sampling as Index "
   ]
  },
  {
   "cell_type": "code",
   "execution_count": 19,
   "metadata": {},
   "outputs": [
    {
     "data": {
      "text/html": [
       "<div>\n",
       "<style scoped>\n",
       "    .dataframe tbody tr th:only-of-type {\n",
       "        vertical-align: middle;\n",
       "    }\n",
       "\n",
       "    .dataframe tbody tr th {\n",
       "        vertical-align: top;\n",
       "    }\n",
       "\n",
       "    .dataframe thead th {\n",
       "        text-align: right;\n",
       "    }\n",
       "</style>\n",
       "<table border=\"1\" class=\"dataframe\">\n",
       "  <thead>\n",
       "    <tr style=\"text-align: right;\">\n",
       "      <th></th>\n",
       "      <th>CITY</th>\n",
       "      <th>Type</th>\n",
       "      <th>STATION</th>\n",
       "      <th>AQI</th>\n",
       "      <th>Remarks</th>\n",
       "    </tr>\n",
       "    <tr>\n",
       "      <th>Date of Sampling</th>\n",
       "      <th></th>\n",
       "      <th></th>\n",
       "      <th></th>\n",
       "      <th></th>\n",
       "      <th></th>\n",
       "    </tr>\n",
       "  </thead>\n",
       "  <tbody>\n",
       "    <tr>\n",
       "      <td>05.06.18</td>\n",
       "      <td>CHENNAI</td>\n",
       "      <td>Residential</td>\n",
       "      <td>Anna Nagar - 765</td>\n",
       "      <td>68</td>\n",
       "      <td>Satisfactory</td>\n",
       "    </tr>\n",
       "    <tr>\n",
       "      <td>07.06.18</td>\n",
       "      <td>CHENNAI</td>\n",
       "      <td>Residential</td>\n",
       "      <td>Anna Nagar - 765</td>\n",
       "      <td>63</td>\n",
       "      <td>Satisfactory</td>\n",
       "    </tr>\n",
       "    <tr>\n",
       "      <td>12.06.18</td>\n",
       "      <td>CHENNAI</td>\n",
       "      <td>Residential</td>\n",
       "      <td>Anna Nagar - 765</td>\n",
       "      <td>70</td>\n",
       "      <td>Satisfactory</td>\n",
       "    </tr>\n",
       "    <tr>\n",
       "      <td>14.06.18</td>\n",
       "      <td>CHENNAI</td>\n",
       "      <td>Residential</td>\n",
       "      <td>Anna Nagar - 765</td>\n",
       "      <td>63</td>\n",
       "      <td>Satisfactory</td>\n",
       "    </tr>\n",
       "    <tr>\n",
       "      <td>19.06.18</td>\n",
       "      <td>CHENNAI</td>\n",
       "      <td>Residential</td>\n",
       "      <td>Anna Nagar - 765</td>\n",
       "      <td>63</td>\n",
       "      <td>Satisfactory</td>\n",
       "    </tr>\n",
       "    <tr>\n",
       "      <td>...</td>\n",
       "      <td>...</td>\n",
       "      <td>...</td>\n",
       "      <td>...</td>\n",
       "      <td>...</td>\n",
       "      <td>...</td>\n",
       "    </tr>\n",
       "    <tr>\n",
       "      <td>14.08.19</td>\n",
       "      <td>CHENNAI</td>\n",
       "      <td>Traffic inter - section</td>\n",
       "      <td>Nungambakkam - 895</td>\n",
       "      <td>58</td>\n",
       "      <td>Satisfactory</td>\n",
       "    </tr>\n",
       "    <tr>\n",
       "      <td>19.08.19</td>\n",
       "      <td>CHENNAI</td>\n",
       "      <td>Traffic inter - section</td>\n",
       "      <td>Nungambakkam - 895</td>\n",
       "      <td>72</td>\n",
       "      <td>Satisfactory</td>\n",
       "    </tr>\n",
       "    <tr>\n",
       "      <td>22.08.19</td>\n",
       "      <td>CHENNAI</td>\n",
       "      <td>Traffic inter - section</td>\n",
       "      <td>Nungambakkam - 895</td>\n",
       "      <td>52</td>\n",
       "      <td>Satisfactory</td>\n",
       "    </tr>\n",
       "    <tr>\n",
       "      <td>27.08.19</td>\n",
       "      <td>CHENNAI</td>\n",
       "      <td>Traffic inter - section</td>\n",
       "      <td>Nungambakkam - 895</td>\n",
       "      <td>71</td>\n",
       "      <td>Satisfactory</td>\n",
       "    </tr>\n",
       "    <tr>\n",
       "      <td>30.08.19</td>\n",
       "      <td>CHENNAI</td>\n",
       "      <td>Traffic inter - section</td>\n",
       "      <td>Nungambakkam - 895</td>\n",
       "      <td>67</td>\n",
       "      <td>Satisfactory</td>\n",
       "    </tr>\n",
       "  </tbody>\n",
       "</table>\n",
       "<p>575 rows × 5 columns</p>\n",
       "</div>"
      ],
      "text/plain": [
       "                     CITY                     Type             STATION  AQI  \\\n",
       "Date of Sampling                                                              \n",
       "05.06.18          CHENNAI              Residential    Anna Nagar - 765   68   \n",
       "07.06.18          CHENNAI              Residential    Anna Nagar - 765   63   \n",
       "12.06.18          CHENNAI              Residential    Anna Nagar - 765   70   \n",
       "14.06.18          CHENNAI              Residential    Anna Nagar - 765   63   \n",
       "19.06.18          CHENNAI              Residential    Anna Nagar - 765   63   \n",
       "...                   ...                      ...                 ...  ...   \n",
       "14.08.19          CHENNAI  Traffic inter - section  Nungambakkam - 895   58   \n",
       "19.08.19          CHENNAI  Traffic inter - section  Nungambakkam - 895   72   \n",
       "22.08.19          CHENNAI  Traffic inter - section  Nungambakkam - 895   52   \n",
       "27.08.19          CHENNAI  Traffic inter - section  Nungambakkam - 895   71   \n",
       "30.08.19          CHENNAI  Traffic inter - section  Nungambakkam - 895   67   \n",
       "\n",
       "                       Remarks  \n",
       "Date of Sampling                \n",
       "05.06.18          Satisfactory  \n",
       "07.06.18          Satisfactory  \n",
       "12.06.18          Satisfactory  \n",
       "14.06.18          Satisfactory  \n",
       "19.06.18          Satisfactory  \n",
       "...                        ...  \n",
       "14.08.19          Satisfactory  \n",
       "19.08.19          Satisfactory  \n",
       "22.08.19          Satisfactory  \n",
       "27.08.19          Satisfactory  \n",
       "30.08.19          Satisfactory  \n",
       "\n",
       "[575 rows x 5 columns]"
      ]
     },
     "execution_count": 19,
     "metadata": {},
     "output_type": "execute_result"
    }
   ],
   "source": [
    "gas_ratio_df.set_index('Date of Sampling')"
   ]
  },
  {
   "cell_type": "code",
   "execution_count": 20,
   "metadata": {},
   "outputs": [],
   "source": [
    "gas_ratio_df['Date of Sampling']  = pd.to_datetime(gas_ratio_df['Date of Sampling'], format='%d.%m.%y', errors='ignore') "
   ]
  },
  {
   "cell_type": "code",
   "execution_count": 21,
   "metadata": {},
   "outputs": [
    {
     "data": {
      "text/html": [
       "<div>\n",
       "<style scoped>\n",
       "    .dataframe tbody tr th:only-of-type {\n",
       "        vertical-align: middle;\n",
       "    }\n",
       "\n",
       "    .dataframe tbody tr th {\n",
       "        vertical-align: top;\n",
       "    }\n",
       "\n",
       "    .dataframe thead th {\n",
       "        text-align: right;\n",
       "    }\n",
       "</style>\n",
       "<table border=\"1\" class=\"dataframe\">\n",
       "  <thead>\n",
       "    <tr style=\"text-align: right;\">\n",
       "      <th></th>\n",
       "      <th>CITY</th>\n",
       "      <th>Type</th>\n",
       "      <th>STATION</th>\n",
       "      <th>AQI</th>\n",
       "      <th>Remarks</th>\n",
       "    </tr>\n",
       "    <tr>\n",
       "      <th>Date of Sampling</th>\n",
       "      <th></th>\n",
       "      <th></th>\n",
       "      <th></th>\n",
       "      <th></th>\n",
       "      <th></th>\n",
       "    </tr>\n",
       "  </thead>\n",
       "  <tbody>\n",
       "    <tr>\n",
       "      <td>01.02.19</td>\n",
       "      <td>CHENNAI</td>\n",
       "      <td>Mixed</td>\n",
       "      <td>T.Nagar 766</td>\n",
       "      <td>73</td>\n",
       "      <td>Satisfactory</td>\n",
       "    </tr>\n",
       "    <tr>\n",
       "      <td>01.02.19</td>\n",
       "      <td>CHENNAI</td>\n",
       "      <td>Traffic inter - section</td>\n",
       "      <td>Nungambakkam - 895</td>\n",
       "      <td>155</td>\n",
       "      <td>Moderate</td>\n",
       "    </tr>\n",
       "    <tr>\n",
       "      <td>01.04.19</td>\n",
       "      <td>CHENNAI</td>\n",
       "      <td>Residential</td>\n",
       "      <td>Anna Nagar - 765</td>\n",
       "      <td>139</td>\n",
       "      <td>Moderate</td>\n",
       "    </tr>\n",
       "    <tr>\n",
       "      <td>01.04.19</td>\n",
       "      <td>CHENNAI</td>\n",
       "      <td>Mixed</td>\n",
       "      <td>T.Nagar 766</td>\n",
       "      <td>101</td>\n",
       "      <td>Moderate</td>\n",
       "    </tr>\n",
       "    <tr>\n",
       "      <td>01.06.18</td>\n",
       "      <td>CHENNAI</td>\n",
       "      <td>Traffic inter - section</td>\n",
       "      <td>Nungambakkam - 895</td>\n",
       "      <td>109</td>\n",
       "      <td>Satisfactory</td>\n",
       "    </tr>\n",
       "    <tr>\n",
       "      <td>...</td>\n",
       "      <td>...</td>\n",
       "      <td>...</td>\n",
       "      <td>...</td>\n",
       "      <td>...</td>\n",
       "      <td>...</td>\n",
       "    </tr>\n",
       "    <tr>\n",
       "      <td>31.08.18</td>\n",
       "      <td>CHENNAI</td>\n",
       "      <td>Residential</td>\n",
       "      <td>Adyar - 764</td>\n",
       "      <td>58</td>\n",
       "      <td>Satisfactory</td>\n",
       "    </tr>\n",
       "    <tr>\n",
       "      <td>31.10.18</td>\n",
       "      <td>CHENNAI</td>\n",
       "      <td>Traffic inter - section</td>\n",
       "      <td>Nungambakkam - 895</td>\n",
       "      <td>64</td>\n",
       "      <td>Satisfactory</td>\n",
       "    </tr>\n",
       "    <tr>\n",
       "      <td>31.10.18</td>\n",
       "      <td>CHENNAI</td>\n",
       "      <td>Mixed</td>\n",
       "      <td>T.Nagar 766</td>\n",
       "      <td>96</td>\n",
       "      <td>Satisfactory</td>\n",
       "    </tr>\n",
       "    <tr>\n",
       "      <td>31.12.18</td>\n",
       "      <td>CHENNAI</td>\n",
       "      <td>Traffic inter - section</td>\n",
       "      <td>Nungambakkam - 895</td>\n",
       "      <td>72</td>\n",
       "      <td>Satisfactory</td>\n",
       "    </tr>\n",
       "    <tr>\n",
       "      <td>31.12.18</td>\n",
       "      <td>CHENNAI</td>\n",
       "      <td>Mixed</td>\n",
       "      <td>Kilpauk - 767</td>\n",
       "      <td>65</td>\n",
       "      <td>Satisfactory</td>\n",
       "    </tr>\n",
       "  </tbody>\n",
       "</table>\n",
       "<p>575 rows × 5 columns</p>\n",
       "</div>"
      ],
      "text/plain": [
       "                     CITY                     Type             STATION  AQI  \\\n",
       "Date of Sampling                                                              \n",
       "01.02.19          CHENNAI                    Mixed         T.Nagar 766   73   \n",
       "01.02.19          CHENNAI  Traffic inter - section  Nungambakkam - 895  155   \n",
       "01.04.19          CHENNAI              Residential    Anna Nagar - 765  139   \n",
       "01.04.19          CHENNAI                    Mixed         T.Nagar 766  101   \n",
       "01.06.18          CHENNAI  Traffic inter - section  Nungambakkam - 895  109   \n",
       "...                   ...                      ...                 ...  ...   \n",
       "31.08.18          CHENNAI              Residential         Adyar - 764   58   \n",
       "31.10.18          CHENNAI  Traffic inter - section  Nungambakkam - 895   64   \n",
       "31.10.18          CHENNAI                    Mixed         T.Nagar 766   96   \n",
       "31.12.18          CHENNAI  Traffic inter - section  Nungambakkam - 895   72   \n",
       "31.12.18          CHENNAI                    Mixed       Kilpauk - 767   65   \n",
       "\n",
       "                       Remarks  \n",
       "Date of Sampling                \n",
       "01.02.19          Satisfactory  \n",
       "01.02.19              Moderate  \n",
       "01.04.19              Moderate  \n",
       "01.04.19              Moderate  \n",
       "01.06.18          Satisfactory  \n",
       "...                        ...  \n",
       "31.08.18          Satisfactory  \n",
       "31.10.18          Satisfactory  \n",
       "31.10.18          Satisfactory  \n",
       "31.12.18          Satisfactory  \n",
       "31.12.18          Satisfactory  \n",
       "\n",
       "[575 rows x 5 columns]"
      ]
     },
     "execution_count": 21,
     "metadata": {},
     "output_type": "execute_result"
    }
   ],
   "source": [
    "gas_ratio_df.set_index('Date of Sampling').sort_index()"
   ]
  },
  {
   "cell_type": "code",
   "execution_count": 22,
   "metadata": {},
   "outputs": [],
   "source": [
    "gas_ratio_df = gas_ratio_df.set_index('Date of Sampling').sort_index()"
   ]
  },
  {
   "cell_type": "code",
   "execution_count": 23,
   "metadata": {},
   "outputs": [
    {
     "data": {
      "text/plain": [
       "<matplotlib.axes._subplots.AxesSubplot at 0x7f4873ed9208>"
      ]
     },
     "execution_count": 23,
     "metadata": {},
     "output_type": "execute_result"
    },
    {
     "data": {
      "image/png": "[encoded data removed]",
      "text/plain": [
       "<Figure size 432x288 with 1 Axes>"
      ]
     },
     "metadata": {
      "needs_background": "light"
     },
     "output_type": "display_data"
    }
   ],
   "source": [
    "gas_ratio_df[gas_ratio_df['STATION'] == 'T.Nagar 766'].plot(y='AQI')"
   ]
  },
  {
   "cell_type": "code",
   "execution_count": 24,
   "metadata": {},
   "outputs": [
    {
     "data": {
      "text/plain": [
       "<matplotlib.axes._subplots.AxesSubplot at 0x7f4873ebe358>"
      ]
     },
     "execution_count": 24,
     "metadata": {},
     "output_type": "execute_result"
    },
    {
     "data": {
      "image/png": "[encoded data removed]",
      "text/plain": [
       "<Figure size 432x288 with 1 Axes>"
      ]
     },
     "metadata": {
      "needs_background": "light"
     },
     "output_type": "display_data"
    }
   ],
   "source": [
    "gas_ratio_df[gas_ratio_df['STATION'] == 'T.Nagar 766'].plot(y='AQI')"
   ]
  },
  {
   "cell_type": "code",
   "execution_count": 25,
   "metadata": {},
   "outputs": [
    {
     "name": "stdout",
     "output_type": "stream",
     "text": [
      "31.06.18\n"
     ]
    }
   ],
   "source": [
    "from datetime import datetime as dt\n",
    "for value in gas_ratio_df.index:\n",
    "    try :\n",
    "        dt.strptime(value, '%d.%m.%y')\n",
    "    except:\n",
    "        print(value)"
   ]
  },
  {
   "cell_type": "code",
   "execution_count": 27,
   "metadata": {},
   "outputs": [],
   "source": [
    "gas_ratio_df.drop(index='31.06.18', inplace=True)"
   ]
  },
  {
   "cell_type": "code",
   "execution_count": 32,
   "metadata": {},
   "outputs": [],
   "source": [
    "gas_ratio_df.index = pd.to_datetime(gas_ratio_df.index)"
   ]
  },
  {
   "cell_type": "code",
   "execution_count": 33,
   "metadata": {},
   "outputs": [
    {
     "data": {
      "text/plain": [
       "DatetimeIndex(['2019-01-02', '2019-01-02', '2019-01-04', '2019-01-04',\n",
       "               '2018-01-06', '2018-01-06', '2019-01-07', '2019-01-07',\n",
       "               '2018-01-08', '2018-01-08',\n",
       "               ...\n",
       "               '2019-05-31', '2018-07-31', '2018-07-31', '2019-07-31',\n",
       "               '2019-07-31', '2018-08-31', '2018-10-31', '2018-10-31',\n",
       "               '2018-12-31', '2018-12-31'],\n",
       "              dtype='datetime64[ns]', name='Date of Sampling', length=574, freq=None)"
      ]
     },
     "execution_count": 33,
     "metadata": {},
     "output_type": "execute_result"
    }
   ],
   "source": [
    "gas_ratio_df.index"
   ]
  },
  {
   "cell_type": "code",
   "execution_count": 42,
   "metadata": {},
   "outputs": [
    {
     "data": {
      "text/plain": [
       "<matplotlib.axes._subplots.AxesSubplot at 0x7f486dbe5b70>"
      ]
     },
     "execution_count": 42,
     "metadata": {},
     "output_type": "execute_result"
    },
    {
     "data": {
      "image/png": "[encoded data removed]",
      "text/plain": [
       "<Figure size 432x288 with 1 Axes>"
      ]
     },
     "metadata": {
      "needs_background": "light"
     },
     "output_type": "display_data"
    }
   ],
   "source": [
    "gas_ratio_df[gas_ratio_df['STATION'] == 'T.Nagar 766'].resample('M').mean().dropna().plot(y='AQI')"
   ]
  },
  {
   "cell_type": "code",
   "execution_count": null,
   "metadata": {},
   "outputs": [],
   "source": []
  }
 ],
 "metadata": {
  "kernelspec": {
   "display_name": "Python 3",
   "language": "python",
   "name": "python3"
  },
  "language_info": {
   "codemirror_mode": {
    "name": "ipython",
    "version": 3
   },
   "file_extension": ".py",
   "mimetype": "text/x-python",
   "name": "python",
   "nbconvert_exporter": "python",
   "pygments_lexer": "ipython3",
   "version": "3.6.8"
  }
 },
 "nbformat": 4,
 "nbformat_minor": 2
}
